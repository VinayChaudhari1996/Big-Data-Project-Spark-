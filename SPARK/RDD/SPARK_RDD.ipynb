{
 "cells": [
  {
   "cell_type": "markdown",
   "metadata": {},
   "source": [
    "# SPARK RDD PROJECT ON \n",
    "### (Retail_db)"
   ]
  },
  {
   "cell_type": "code",
   "execution_count": null,
   "metadata": {},
   "outputs": [],
   "source": [
    "\n",
    "#Get total count of records\n",
    "\n",
    "ordersRDD = sc.textFile(\"orders\")"
   ]
  },
  {
   "cell_type": "markdown",
   "metadata": {},
   "source": [
    "ordersRDD.count()"
   ]
  },
  {
   "cell_type": "code",
   "execution_count": 8,
   "metadata": {},
   "outputs": [
    {
     "data": {
      "text/plain": [
       "34322619.9300295"
      ]
     },
     "execution_count": 8,
     "metadata": {},
     "output_type": "execute_result"
    }
   ],
   "source": [
    "orderitemsRDD = sc.textFile(\"o_items\")\n",
    "map1 = orderitemsRDD.map(lambda a: float(a.split(\",\")[4]))\n",
    "map1.reduce(lambda rev1 , rev2 :rev1 + rev2)"
   ]
  },
  {
   "cell_type": "markdown",
   "metadata": {},
   "source": [
    "## Get the total revenue"
   ]
  },
  {
   "cell_type": "code",
   "execution_count": 18,
   "metadata": {},
   "outputs": [],
   "source": [
    "orditmsRDD = sc.textFile(\"o_items\")"
   ]
  },
  {
   "cell_type": "code",
   "execution_count": 22,
   "metadata": {},
   "outputs": [],
   "source": [
    "totalrevnue = orditmsRDD.map(lambda rec: float(rec.split(\",\")[4])).reduce(lambda acc, val:acc + val) "
   ]
  },
  {
   "cell_type": "code",
   "execution_count": 23,
   "metadata": {},
   "outputs": [
    {
     "data": {
      "text/plain": [
       "34322619.9300295"
      ]
     },
     "execution_count": 23,
     "metadata": {},
     "output_type": "execute_result"
    }
   ],
   "source": [
    "totalrevnue"
   ]
  },
  {
   "cell_type": "code",
   "execution_count": 24,
   "metadata": {},
   "outputs": [
    {
     "data": {
      "text/plain": [
       "['1,1,957,1,299.98,299.98',\n",
       " '2,2,1073,1,199.99,199.99',\n",
       " '3,2,502,5,250.0,50.0',\n",
       " '4,2,403,1,129.99,129.99',\n",
       " '5,4,897,2,49.98,24.99',\n",
       " '6,4,365,5,299.95,59.99',\n",
       " '7,4,502,3,150.0,50.0',\n",
       " '8,4,1014,4,199.92,49.98',\n",
       " '9,5,957,1,299.98,299.98',\n",
       " '10,5,365,5,299.95,59.99']"
      ]
     },
     "execution_count": 24,
     "metadata": {},
     "output_type": "execute_result"
    }
   ],
   "source": [
    "orditmsRDD.take(10)"
   ]
  },
  {
   "cell_type": "markdown",
   "metadata": {},
   "source": [
    "## Get the total distinct orders"
   ]
  },
  {
   "cell_type": "code",
   "execution_count": 32,
   "metadata": {},
   "outputs": [],
   "source": [
    "total_ord = orditmsRDD.map(lambda rec: rec.split(\",\")[1])"
   ]
  },
  {
   "cell_type": "code",
   "execution_count": 33,
   "metadata": {},
   "outputs": [
    {
     "data": {
      "text/plain": [
       "['1', '2', '2', '2', '4']"
      ]
     },
     "execution_count": 33,
     "metadata": {},
     "output_type": "execute_result"
    }
   ],
   "source": [
    "total_ord.take(5)"
   ]
  },
  {
   "cell_type": "code",
   "execution_count": 34,
   "metadata": {},
   "outputs": [
    {
     "data": {
      "text/plain": [
       "57431"
      ]
     },
     "execution_count": 34,
     "metadata": {},
     "output_type": "execute_result"
    }
   ],
   "source": [
    "total_ord.distinct().count()"
   ]
  },
  {
   "cell_type": "markdown",
   "metadata": {},
   "source": [
    "## CountByKey"
   ]
  },
  {
   "cell_type": "code",
   "execution_count": 30,
   "metadata": {},
   "outputs": [],
   "source": [
    "ordRDD = sc.textFile(\"orders\")\n",
    "ordmap = ordRDD.map(lambda rec: (rec.split(\",\")[3],0))  \n",
    "\n",
    "#In place of zero, any number can be used. Even 1 can be used !"
   ]
  },
  {
   "cell_type": "code",
   "execution_count": 31,
   "metadata": {},
   "outputs": [
    {
     "data": {
      "text/plain": [
       "[('CLOSED', 0),\n",
       " ('PENDING_PAYMENT', 0),\n",
       " ('COMPLETE', 0),\n",
       " ('CLOSED', 0),\n",
       " ('COMPLETE', 0)]"
      ]
     },
     "execution_count": 31,
     "metadata": {},
     "output_type": "execute_result"
    }
   ],
   "source": [
    "ordmap.take(5)\n",
    "\n",
    "# STRUCTURE OF ORDERS : -\n",
    "\n",
    "#'1, 2013-07-25  00:00:00.0, 11599, CLOSED'"
   ]
  },
  {
   "cell_type": "code",
   "execution_count": 42,
   "metadata": {},
   "outputs": [
    {
     "data": {
      "text/plain": [
       "defaultdict(int,\n",
       "            {'CLOSED': 7556,\n",
       "             'PENDING_PAYMENT': 15030,\n",
       "             'COMPLETE': 22899,\n",
       "             'PROCESSING': 8275,\n",
       "             'PAYMENT_REVIEW': 729,\n",
       "             'PENDING': 7610,\n",
       "             'ON_HOLD': 3798,\n",
       "             'CANCELED': 1428,\n",
       "             'SUSPECTED_FRAUD': 1558})"
      ]
     },
     "execution_count": 42,
     "metadata": {},
     "output_type": "execute_result"
    }
   ],
   "source": [
    "ordmap.countByKey()"
   ]
  },
  {
   "cell_type": "markdown",
   "metadata": {},
   "source": [
    "#### If the items functions is not used then only the key is displayed. Using items gives the total number of records in the table for each order status."
   ]
  },
  {
   "cell_type": "code",
   "execution_count": 43,
   "metadata": {},
   "outputs": [
    {
     "name": "stdout",
     "output_type": "stream",
     "text": [
      "('CLOSED', 7556)\n",
      "('PENDING_PAYMENT', 15030)\n",
      "('COMPLETE', 22899)\n",
      "('PROCESSING', 8275)\n",
      "('PAYMENT_REVIEW', 729)\n",
      "('PENDING', 7610)\n",
      "('ON_HOLD', 3798)\n",
      "('CANCELED', 1428)\n",
      "('SUSPECTED_FRAUD', 1558)\n"
     ]
    }
   ],
   "source": [
    "for i in ordmap.countByKey().items():\n",
    "  print(i)"
   ]
  },
  {
   "cell_type": "markdown",
   "metadata": {},
   "source": [
    "#####  1) groupByKey() - \n",
    "i/p data for aggregation is very large and after aggregation the number of recs is more or less the same (does not use combiner)\n",
    "\n",
    "##### 2) reduceBYKey() - \n",
    "i/p data for aggregation is very large and after aggregation the number of recs is small\n",
    "\n",
    "##### 3) aggregateByKey()\n",
    "\n",
    "##### 4)  combineByKey() -\n",
    "i/p data for aggregation is very large and after aggregation the number of recs is small\n"
   ]
  },
  {
   "cell_type": "code",
   "execution_count": 54,
   "metadata": {},
   "outputs": [
    {
     "data": {
      "text/plain": [
       "[('CLOSED', 1),\n",
       " ('PENDING_PAYMENT', 1),\n",
       " ('COMPLETE', 1),\n",
       " ('CLOSED', 1),\n",
       " ('COMPLETE', 1)]"
      ]
     },
     "execution_count": 54,
     "metadata": {},
     "output_type": "execute_result"
    }
   ],
   "source": [
    "#groupByKey : - \n",
    "\n",
    "ordmap = ordRDD.map(lambda rec : (rec.split(\",\")[3],1))\n",
    "\n",
    "ordmap.take(5)"
   ]
  },
  {
   "cell_type": "code",
   "execution_count": 57,
   "metadata": {},
   "outputs": [],
   "source": [
    "ordbystat = ordmap.groupByKey().map\\\n",
    "(lambda rec: (rec[0],sum(rec[1])))"
   ]
  },
  {
   "cell_type": "code",
   "execution_count": 58,
   "metadata": {},
   "outputs": [
    {
     "data": {
      "text/plain": [
       "[('CLOSED', 7556),\n",
       " ('CANCELED', 1428),\n",
       " ('PENDING_PAYMENT', 15030),\n",
       " ('COMPLETE', 22899),\n",
       " ('PROCESSING', 8275)]"
      ]
     },
     "execution_count": 58,
     "metadata": {},
     "output_type": "execute_result"
    }
   ],
   "source": [
    "ordbystat.take(5)"
   ]
  },
  {
   "cell_type": "code",
   "execution_count": 59,
   "metadata": {},
   "outputs": [
    {
     "data": {
      "text/plain": [
       "[('CLOSED', 7556),\n",
       " ('CANCELED', 1428),\n",
       " ('PENDING_PAYMENT', 15030),\n",
       " ('COMPLETE', 22899),\n",
       " ('PROCESSING', 8275),\n",
       " ('PAYMENT_REVIEW', 729),\n",
       " ('PENDING', 7610),\n",
       " ('ON_HOLD', 3798),\n",
       " ('SUSPECTED_FRAUD', 1558)]"
      ]
     },
     "execution_count": 59,
     "metadata": {},
     "output_type": "execute_result"
    }
   ],
   "source": [
    "# reduceByKey():- \n",
    "#takes 2 parameters accumulator and value. \n",
    "#aggregation like counting the sum \n",
    "#is simpler here compared to groupByKey().\n",
    "\n",
    "#It also uses combiner. It uses 1 parameter (tuple of acc & val)\n",
    "\n",
    "\n",
    "ordbystat = ordmap.reduceByKey(lambda acc,val :acc+val)\n",
    "ordbystat.take(10)\n",
    "\n"
   ]
  },
  {
   "cell_type": "code",
   "execution_count": 60,
   "metadata": {},
   "outputs": [
    {
     "data": {
      "text/plain": [
       "[('CLOSED', '1,2013-07-25 00:00:00.0,11599,CLOSED'),\n",
       " ('PENDING_PAYMENT', '2,2013-07-25 00:00:00.0,256,PENDING_PAYMENT'),\n",
       " ('COMPLETE', '3,2013-07-25 00:00:00.0,12111,COMPLETE'),\n",
       " ('CLOSED', '4,2013-07-25 00:00:00.0,8827,CLOSED'),\n",
       " ('COMPLETE', '5,2013-07-25 00:00:00.0,11318,COMPLETE'),\n",
       " ('COMPLETE', '6,2013-07-25 00:00:00.0,7130,COMPLETE'),\n",
       " ('COMPLETE', '7,2013-07-25 00:00:00.0,4530,COMPLETE'),\n",
       " ('PROCESSING', '8,2013-07-25 00:00:00.0,2911,PROCESSING'),\n",
       " ('PENDING_PAYMENT', '9,2013-07-25 00:00:00.0,5657,PENDING_PAYMENT'),\n",
       " ('PENDING_PAYMENT', '10,2013-07-25 00:00:00.0,5648,PENDING_PAYMENT')]"
      ]
     },
     "execution_count": 60,
     "metadata": {},
     "output_type": "execute_result"
    }
   ],
   "source": [
    "# aggregateByKey(): takes 2 parameters\n",
    "\n",
    "ordmap = ordRDD.map(lambda rec: (rec.split(\",\")[3], rec))\n",
    "ordmap.take(10)\n"
   ]
  },
  {
   "cell_type": "markdown",
   "metadata": {},
   "source": [
    "### a) CountByKey () "
   ]
  },
  {
   "cell_type": "code",
   "execution_count": 61,
   "metadata": {},
   "outputs": [
    {
     "data": {
      "text/plain": [
       "PythonRDD[82] at RDD at PythonRDD.scala:49"
      ]
     },
     "execution_count": 61,
     "metadata": {},
     "output_type": "execute_result"
    }
   ],
   "source": [
    "\n",
    "ordRDD = sc.textFile(\"orders\")\n",
    "ordmap = ordRDD.map(lambda a:(a.split(\",\")[3],1)) \n",
    "ordRDD.map(lambda a:(a.split(\",\")[3],2)) \n"
   ]
  },
  {
   "cell_type": "code",
   "execution_count": 63,
   "metadata": {},
   "outputs": [
    {
     "name": "stdout",
     "output_type": "stream",
     "text": [
      "defaultdict(<class 'int'>, {'CLOSED': 7556, 'PENDING_PAYMENT': 15030, 'COMPLETE': 22899, 'PROCESSING': 8275, 'PAYMENT_REVIEW': 729, 'PENDING': 7610, 'ON_HOLD': 3798, 'CANCELED': 1428, 'SUSPECTED_FRAUD': 1558})\n"
     ]
    }
   ],
   "source": [
    "ordcnt = ordmap.countByKey()\n",
    "print(ordcnt)\n",
    "\n"
   ]
  },
  {
   "cell_type": "markdown",
   "metadata": {},
   "source": [
    "#### The output from  CountByKey  is a { Dictionary }  The items need to be extracted."
   ]
  },
  {
   "cell_type": "code",
   "execution_count": 64,
   "metadata": {},
   "outputs": [],
   "source": [
    "ordcnt = ordmap.countByKey().items()"
   ]
  },
  {
   "cell_type": "code",
   "execution_count": 65,
   "metadata": {},
   "outputs": [
    {
     "name": "stdout",
     "output_type": "stream",
     "text": [
      "dict_items([('CLOSED', 7556), ('PENDING_PAYMENT', 15030), ('COMPLETE', 22899), ('PROCESSING', 8275), ('PAYMENT_REVIEW', 729), ('PENDING', 7610), ('ON_HOLD', 3798), ('CANCELED', 1428), ('SUSPECTED_FRAUD', 1558)])\n"
     ]
    }
   ],
   "source": [
    "print(ordcnt)"
   ]
  },
  {
   "cell_type": "code",
   "execution_count": 66,
   "metadata": {},
   "outputs": [
    {
     "name": "stdout",
     "output_type": "stream",
     "text": [
      "('CLOSED', 7556)\n",
      "('PENDING_PAYMENT', 15030)\n",
      "('COMPLETE', 22899)\n",
      "('PROCESSING', 8275)\n",
      "('PAYMENT_REVIEW', 729)\n",
      "('PENDING', 7610)\n",
      "('ON_HOLD', 3798)\n",
      "('CANCELED', 1428)\n",
      "('SUSPECTED_FRAUD', 1558)\n"
     ]
    }
   ],
   "source": [
    "for i in ordmap.countByKey().items():print(i)"
   ]
  },
  {
   "cell_type": "markdown",
   "metadata": {},
   "source": [
    "### b) GroupByKey()\n"
   ]
  },
  {
   "cell_type": "code",
   "execution_count": 67,
   "metadata": {},
   "outputs": [],
   "source": [
    "ordRDD = sc.textFile(\"orders\")\n",
    "ordmap = ordRDD.map(lambda a:(a.split(\",\")[3],1))\n",
    "ordcnt = ordmap.groupByKey().map(lambda t: (t[0], sum(t[1])))"
   ]
  },
  {
   "cell_type": "code",
   "execution_count": 68,
   "metadata": {},
   "outputs": [
    {
     "data": {
      "text/plain": [
       "[('CLOSED', 7556),\n",
       " ('CANCELED', 1428),\n",
       " ('PENDING_PAYMENT', 15030),\n",
       " ('COMPLETE', 22899),\n",
       " ('PROCESSING', 8275)]"
      ]
     },
     "execution_count": 68,
     "metadata": {},
     "output_type": "execute_result"
    }
   ],
   "source": [
    "ordcnt.take(5)"
   ]
  },
  {
   "cell_type": "code",
   "execution_count": 69,
   "metadata": {},
   "outputs": [
    {
     "name": "stdout",
     "output_type": "stream",
     "text": [
      "('CLOSED', 7556)\n",
      "('CANCELED', 1428)\n",
      "('PENDING_PAYMENT', 15030)\n",
      "('COMPLETE', 22899)\n",
      "('PROCESSING', 8275)\n",
      "('PAYMENT_REVIEW', 729)\n",
      "('PENDING', 7610)\n",
      "('ON_HOLD', 3798)\n",
      "('SUSPECTED_FRAUD', 1558)\n"
     ]
    }
   ],
   "source": [
    "for i in ordcnt.collect():print(i)\n"
   ]
  },
  {
   "cell_type": "markdown",
   "metadata": {},
   "source": [
    "### c) ReduceByKey()\n"
   ]
  },
  {
   "cell_type": "code",
   "execution_count": 70,
   "metadata": {},
   "outputs": [],
   "source": [
    "ordRDD = sc.textFile(\"orders\")\n",
    "ordmap = ordRDD.map(lambda a:(a.split(\",\")[3],1))     \n",
    "ordcnt = ordmap.reduceByKey(lambda a,b: a+b)"
   ]
  },
  {
   "cell_type": "code",
   "execution_count": 71,
   "metadata": {},
   "outputs": [
    {
     "name": "stdout",
     "output_type": "stream",
     "text": [
      "('CLOSED', 7556)\n",
      "('CANCELED', 1428)\n",
      "('PENDING_PAYMENT', 15030)\n",
      "('COMPLETE', 22899)\n",
      "('PROCESSING', 8275)\n",
      "('PAYMENT_REVIEW', 729)\n",
      "('PENDING', 7610)\n",
      "('ON_HOLD', 3798)\n",
      "('SUSPECTED_FRAUD', 1558)\n"
     ]
    }
   ],
   "source": [
    "for i in ordcnt.collect():print(i)\n"
   ]
  },
  {
   "cell_type": "markdown",
   "metadata": {},
   "source": [
    "### d) aggregateByKey()\n"
   ]
  },
  {
   "cell_type": "code",
   "execution_count": 72,
   "metadata": {},
   "outputs": [],
   "source": [
    "ordRDD = sc.textFile(\"orders\")\n",
    "ordmap = ordRDD.map(lambda a: (a.split(\",\")[3], a))\n",
    "ordcnt = ordmap.aggregateByKey(0, lambda acc, val: acc+1, lambda acc,val:acc+val)\n"
   ]
  },
  {
   "cell_type": "code",
   "execution_count": 73,
   "metadata": {},
   "outputs": [
    {
     "name": "stdout",
     "output_type": "stream",
     "text": [
      "('CLOSED', 7556)\n",
      "('CANCELED', 1428)\n",
      "('PENDING_PAYMENT', 15030)\n",
      "('COMPLETE', 22899)\n",
      "('PROCESSING', 8275)\n",
      "('PAYMENT_REVIEW', 729)\n",
      "('PENDING', 7610)\n",
      "('ON_HOLD', 3798)\n",
      "('SUSPECTED_FRAUD', 1558)\n"
     ]
    }
   ],
   "source": [
    "for i in ordcnt.collect():print(i)\n"
   ]
  },
  {
   "cell_type": "markdown",
   "metadata": {},
   "source": [
    "# Number of orders by Order date and Order status"
   ]
  },
  {
   "cell_type": "code",
   "execution_count": 81,
   "metadata": {},
   "outputs": [],
   "source": [
    "# The table to be referred is orders. \n",
    "ordRDD = sc.textFile(\"orders\")"
   ]
  },
  {
   "cell_type": "code",
   "execution_count": 82,
   "metadata": {},
   "outputs": [],
   "source": [
    "ordmap = ordRDD.map(lambda a: ((a.split(\",\")[1], a.split(\",\")[3]),1))\n"
   ]
  },
  {
   "cell_type": "code",
   "execution_count": 83,
   "metadata": {},
   "outputs": [],
   "source": [
    "ordcnt = ordmap.reduceByKey(lambda a,b: a + b)"
   ]
  },
  {
   "cell_type": "code",
   "execution_count": 85,
   "metadata": {},
   "outputs": [
    {
     "data": {
      "text/plain": [
       "[(('2013-07-25 00:00:00.0', 'PENDING_PAYMENT'), 41),\n",
       " (('2013-07-25 00:00:00.0', 'COMPLETE'), 42),\n",
       " (('2013-07-25 00:00:00.0', 'PROCESSING'), 16),\n",
       " (('2013-07-25 00:00:00.0', 'PAYMENT_REVIEW'), 3),\n",
       " (('2013-07-25 00:00:00.0', 'PENDING'), 13)]"
      ]
     },
     "execution_count": 85,
     "metadata": {},
     "output_type": "execute_result"
    }
   ],
   "source": [
    "ordcnt.take(5)"
   ]
  },
  {
   "cell_type": "code",
   "execution_count": 86,
   "metadata": {},
   "outputs": [
    {
     "data": {
      "text/plain": [
       "[(('PENDING_PAYMENT', '2013-07-25 00:00:00.0'), 41),\n",
       " (('COMPLETE', '2013-07-25 00:00:00.0'), 42),\n",
       " (('PROCESSING', '2013-07-25 00:00:00.0'), 16),\n",
       " (('PAYMENT_REVIEW', '2013-07-25 00:00:00.0'), 3),\n",
       " (('PENDING', '2013-07-25 00:00:00.0'), 13)]"
      ]
     },
     "execution_count": 86,
     "metadata": {},
     "output_type": "execute_result"
    }
   ],
   "source": [
    "ordmap = ordRDD.map(lambda a:((a.split(\",\")[3], a.split(\",\")[1]),1))\n",
    "ordcnt = ordmap.reduceByKey(lambda a,b:a+b)\n",
    "ordcnt.take(5)"
   ]
  },
  {
   "cell_type": "markdown",
   "metadata": {},
   "source": [
    "#### The group by keys is included under the variable 'K' in (K,V). Can be extended to any number.As it involves aggregation, groupByKey is eliminated.\n",
    "\n",
    "#### But we can obtain the same result using countByKey() and groupByKey().The best option is reduceByKey() as the logic for combiner and reducer is the same.\n",
    "\n"
   ]
  },
  {
   "cell_type": "code",
   "execution_count": 92,
   "metadata": {},
   "outputs": [
    {
     "data": {
      "text/plain": [
       "[(('2013-07-25 00:00:00.0', 'CLOSED'), 1),\n",
       " (('2013-07-25 00:00:00.0', 'PENDING_PAYMENT'), 1),\n",
       " (('2013-07-25 00:00:00.0', 'COMPLETE'), 1),\n",
       " (('2013-07-25 00:00:00.0', 'CLOSED'), 1),\n",
       " (('2013-07-25 00:00:00.0', 'COMPLETE'), 1)]"
      ]
     },
     "execution_count": 92,
     "metadata": {},
     "output_type": "execute_result"
    }
   ],
   "source": [
    "ordRDD = sc.textFile(\"orders\")\n",
    "ordmap = ordRDD.map(lambda a: ((a.split(\",\")[1], a.split(\",\")[3]),1))\n",
    "ordmap.take(5)"
   ]
  },
  {
   "cell_type": "code",
   "execution_count": 93,
   "metadata": {},
   "outputs": [
    {
     "data": {
      "text/plain": [
       "[(('2013-07-25 00:00:00.0', 'PENDING_PAYMENT'), 41),\n",
       " (('2013-07-25 00:00:00.0', 'COMPLETE'), 42),\n",
       " (('2013-07-25 00:00:00.0', 'PROCESSING'), 16),\n",
       " (('2013-07-25 00:00:00.0', 'PAYMENT_REVIEW'), 3),\n",
       " (('2013-07-25 00:00:00.0', 'PENDING'), 13)]"
      ]
     },
     "execution_count": 93,
     "metadata": {},
     "output_type": "execute_result"
    }
   ],
   "source": [
    "ordRDD = sc.textFile(\"orders\")\n",
    "ordmap = ordRDD.map(lambda a: ((a.split(\",\")[1], a.split(\",\")[3]),1))\n",
    "ordcnt = ordmap.groupByKey().map(lambda t: (t[0], sum(t[1])))\n",
    "ordcnt.take(5)"
   ]
  },
  {
   "cell_type": "code",
   "execution_count": 94,
   "metadata": {},
   "outputs": [
    {
     "data": {
      "text/plain": [
       "[(('2013-07-25 00:00:00.0', 'PENDING_PAYMENT'), 41),\n",
       " (('2013-07-25 00:00:00.0', 'COMPLETE'), 42),\n",
       " (('2013-07-25 00:00:00.0', 'PROCESSING'), 16),\n",
       " (('2013-07-25 00:00:00.0', 'PAYMENT_REVIEW'), 3),\n",
       " (('2013-07-25 00:00:00.0', 'PENDING'), 13)]"
      ]
     },
     "execution_count": 94,
     "metadata": {},
     "output_type": "execute_result"
    }
   ],
   "source": [
    "ordRDD = sc.textFile(\"orders\")\n",
    "ordmap = ordRDD.map(lambda a: ((a.split(\",\")[1], a.split(\",\")[3]),a))\n",
    "ordcnt = ordmap.aggregateByKey(0, lambda acc, val: acc+1, lambda acc, val: acc+val)\n",
    "ordcnt.take(5)"
   ]
  },
  {
   "cell_type": "code",
   "execution_count": 95,
   "metadata": {},
   "outputs": [
    {
     "data": {
      "text/plain": [
       "[(('2013-07-25 00:00:00.0', 'PENDING_PAYMENT'), 41),\n",
       " (('2013-07-25 00:00:00.0', 'COMPLETE'), 42),\n",
       " (('2013-07-25 00:00:00.0', 'PROCESSING'), 16),\n",
       " (('2013-07-25 00:00:00.0', 'PAYMENT_REVIEW'), 3),\n",
       " (('2013-07-25 00:00:00.0', 'PENDING'), 13)]"
      ]
     },
     "execution_count": 95,
     "metadata": {},
     "output_type": "execute_result"
    }
   ],
   "source": [
    "ordRDD = sc.textFile(\"orders\")\n",
    "ordmap = ordRDD.map(lambda a : ((a.split(\",\")[1], a.split(\",\")[3]),a))\n",
    "ordcnt = ordmap.combineByKey(lambda val:1, lambda acc, val:acc+1, lambda acc, val: acc+val)\n",
    "ordcnt.take(5)\n"
   ]
  },
  {
   "cell_type": "markdown",
   "metadata": {},
   "source": [
    "# Generate average revenue per Day"
   ]
  },
  {
   "cell_type": "code",
   "execution_count": 97,
   "metadata": {},
   "outputs": [],
   "source": [
    "ordRDD = sc.textFile(\"orders\")\n",
    "orditmRDD = sc.textFile(\"o_items\")\n",
    "ordmap = ordRDD.map(lambda a: (a.split(\",\")[0], a))\n",
    "orditmap = orditmRDD.map(lambda a: (a.split(\",\")[1], a))\n",
    "joinds = orditmap.join(ordmap)\n"
   ]
  },
  {
   "cell_type": "code",
   "execution_count": 98,
   "metadata": {},
   "outputs": [
    {
     "data": {
      "text/plain": [
       "[('4', ('5,4,897,2,49.98,24.99', '4,2013-07-25 00:00:00.0,8827,CLOSED')),\n",
       " ('4', ('6,4,365,5,299.95,59.99', '4,2013-07-25 00:00:00.0,8827,CLOSED')),\n",
       " ('4', ('7,4,502,3,150.0,50.0', '4,2013-07-25 00:00:00.0,8827,CLOSED')),\n",
       " ('4', ('8,4,1014,4,199.92,49.98', '4,2013-07-25 00:00:00.0,8827,CLOSED')),\n",
       " ('10',\n",
       "  ('24,10,1073,1,199.99,199.99',\n",
       "   '10,2013-07-25 00:00:00.0,5648,PENDING_PAYMENT'))]"
      ]
     },
     "execution_count": 98,
     "metadata": {},
     "output_type": "execute_result"
    }
   ],
   "source": [
    "joinds.take(5)"
   ]
  },
  {
   "cell_type": "code",
   "execution_count": 99,
   "metadata": {},
   "outputs": [],
   "source": [
    "map1 = joinds.map(lambda t: ((t[1][1].split(\",\")[1], t[1][1].split(\",\")[0]), float(t[1][0].split(\",\")[4])))\n"
   ]
  },
  {
   "cell_type": "code",
   "execution_count": 100,
   "metadata": {},
   "outputs": [
    {
     "data": {
      "text/plain": [
       "[(('2013-07-25 00:00:00.0', '4'), 49.98),\n",
       " (('2013-07-25 00:00:00.0', '4'), 299.95),\n",
       " (('2013-07-25 00:00:00.0', '4'), 150.0),\n",
       " (('2013-07-25 00:00:00.0', '4'), 199.92),\n",
       " (('2013-07-25 00:00:00.0', '10'), 199.99)]"
      ]
     },
     "execution_count": 100,
     "metadata": {},
     "output_type": "execute_result"
    }
   ],
   "source": [
    "map1.take(5)"
   ]
  },
  {
   "cell_type": "code",
   "execution_count": 107,
   "metadata": {},
   "outputs": [
    {
     "data": {
      "text/plain": [
       "[(('2013-07-26 00:00:00.0', '110'), 594.93),\n",
       " (('2013-07-26 00:00:00.0', '111'), 249.9),\n",
       " (('2013-07-26 00:00:00.0', '112'), 979.8800000000001),\n",
       " (('2013-07-26 00:00:00.0', '113'), 619.87),\n",
       " (('2013-07-26 00:00:00.0', '115'), 599.96)]"
      ]
     },
     "execution_count": 107,
     "metadata": {},
     "output_type": "execute_result"
    }
   ],
   "source": [
    "revperord = map1.reduceByKey(lambda a,b: a+b)\n",
    "revperord.take(5)\n"
   ]
  },
  {
   "cell_type": "code",
   "execution_count": 108,
   "metadata": {},
   "outputs": [
    {
     "data": {
      "text/plain": [
       "[('2013-07-26 00:00:00.0', 594.93),\n",
       " ('2013-07-26 00:00:00.0', 249.9),\n",
       " ('2013-07-26 00:00:00.0', 979.8800000000001),\n",
       " ('2013-07-26 00:00:00.0', 619.87),\n",
       " ('2013-07-26 00:00:00.0', 599.96)]"
      ]
     },
     "execution_count": 108,
     "metadata": {},
     "output_type": "execute_result"
    }
   ],
   "source": [
    "rpomap = revperord.map(lambda a: (a[0][0], a[1]))\n",
    "rpomap.take(5)"
   ]
  },
  {
   "cell_type": "code",
   "execution_count": 109,
   "metadata": {},
   "outputs": [
    {
     "data": {
      "text/plain": [
       "[('2013-07-25 00:00:00.0', 579.98),\n",
       " ('2013-07-25 00:00:00.0', 1129.8600000000001),\n",
       " ('2013-07-25 00:00:00.0', 919.79),\n",
       " ('2013-07-25 00:00:00.0', 127.96),\n",
       " ('2013-07-25 00:00:00.0', 749.97)]"
      ]
     },
     "execution_count": 109,
     "metadata": {},
     "output_type": "execute_result"
    }
   ],
   "source": [
    "rpomaps = rpomap.sortByKey()\n",
    "rpomaps.take(5)"
   ]
  },
  {
   "cell_type": "code",
   "execution_count": 110,
   "metadata": {},
   "outputs": [
    {
     "data": {
      "text/plain": [
       "57431"
      ]
     },
     "execution_count": 110,
     "metadata": {},
     "output_type": "execute_result"
    }
   ],
   "source": [
    "rpomaps.count()"
   ]
  }
 ],
 "metadata": {
  "kernelspec": {
   "display_name": "Python 3",
   "language": "python",
   "name": "python3"
  },
  "language_info": {
   "codemirror_mode": {
    "name": "ipython",
    "version": 3
   },
   "file_extension": ".py",
   "mimetype": "text/x-python",
   "name": "python",
   "nbconvert_exporter": "python",
   "pygments_lexer": "ipython3",
   "version": "3.6.5"
  }
 },
 "nbformat": 4,
 "nbformat_minor": 2
}
