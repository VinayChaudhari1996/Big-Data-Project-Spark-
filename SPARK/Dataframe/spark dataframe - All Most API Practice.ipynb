{
 "cells": [
  {
   "cell_type": "markdown",
   "metadata": {},
   "source": [
    "# SPARK DATAFRAME API WITH PYTHON (Zero to Hero)\n",
    "\n",
    "#### - Vinay Chaudhari "
   ]
  },
  {
   "cell_type": "markdown",
   "metadata": {},
   "source": [
    "\n",
    "### Learn Dataframe API in FUN WAY ! \n",
    "HAPPY LEARNING  ☺\n",
    "======================================================================================================\n",
    "\n",
    "# A\n",
    "### ○ agg                           \n",
    "### ○ alias                        \n",
    "### ○ agg\n",
    "\n",
    "======================================================================================================\n",
    "# C\n",
    "### ○ cache\n",
    "### ○ coalesce\n",
    "### ○ columns\n",
    "### ○ corr\n",
    "### ○ count\n",
    "### ○ cov\n",
    "### ○ crosstab\n",
    "### ○ cube\n",
    "### ○ coalesce\n",
    "======================================================================================================\n",
    "# D\n",
    "### ○ describe\n",
    "### ○ destinct\n",
    "### ○ drop\n",
    "### ○ dropDuplicates\n",
    "### ○ dropna\n",
    "### ○ dtypes\n",
    "======================================================================================================\n",
    "\n",
    "# E\n",
    "### ○ explain\n",
    "======================================================================================================\n",
    "\n",
    "# F\n",
    "### ○ fillna\n",
    "### ○ filter\n",
    "### ○ first\n",
    "### ○ flatmap\n",
    "### ○ foreach\n",
    "### ○ foreachPartition\n",
    "### ○ freqItems\n",
    "======================================================================================================\n",
    "# G\n",
    "### ○ groupBy \n",
    "======================================================================================================\n",
    "# H\n",
    "### ○ head\n",
    "======================================================================================================\n",
    "# I\n",
    "### ○ intersect\n",
    "### ○ isLocal\n",
    "======================================================================================================\n",
    "# J\n",
    "### ○ join\n",
    "======================================================================================================\n",
    "# L\n",
    "### ○ limit\n",
    "======================================================================================================\n",
    "# M\n",
    "### ○ map\n",
    "### ○ mapPartitions\n",
    "======================================================================================================\n",
    "# N\n",
    "### ○ na\n",
    "======================================================================================================\n",
    "# O\n",
    "### ○ orderBy\n",
    "======================================================================================================\n",
    "# P\n",
    "### ○ persist\n",
    "### ○ printSchema\n",
    "======================================================================================================\n",
    "# R\n",
    "### ○ randomSplit\n",
    "### ○ rdd\n",
    "### ○ registerTempTable\n",
    "### ○ repartition\n",
    "### ○ replace\n",
    "### ○ rollup\n",
    "======================================================================================================\n",
    "# S\n",
    "### ○ sample\n",
    "### ○ sampleBy\n",
    "### ○ schema\n",
    "### ○ select\n",
    "### ○ selectExpr\n",
    "### ○ show\n",
    "### ○ sort\n",
    "### ○ sortWithPartitions\n",
    "### ○ stat\n",
    "### ○ subtract\n",
    "======================================================================================================\n",
    "## ✔ CONVERSIONS \n",
    "======================================================================================================\n",
    "\n",
    "# T\n",
    "### ○ take\n",
    "### ○ toDF\n",
    "### ○ toJSON\n",
    "### ○ toPANDAS\n",
    "======================================================================================================\n",
    "# U\n",
    "### ○ unionAll\n",
    "### ○ upersist\n",
    "======================================================================================================\n",
    "# W\n",
    "### ○ where(filter)\n",
    "### ○ withColumn\n",
    "### ○ withColumnRenamed\n",
    "### ○ write\n",
    "\n",
    "**** IF YOU WANT TO CONTRIBUTE IN THIS FILE YOU ARE WELCOME :) ****"
   ]
  },
  {
   "cell_type": "code",
   "execution_count": 1,
   "metadata": {},
   "outputs": [],
   "source": [
    "import IPython \n"
   ]
  },
  {
   "cell_type": "code",
   "execution_count": 3,
   "metadata": {},
   "outputs": [
    {
     "name": "stdout",
     "output_type": "stream",
     "text": [
      "+------+------+------+\n",
      "|  from|    to|amount|\n",
      "+------+------+------+\n",
      "| vinay| sunny|   100|\n",
      "|deepak| parag|   200|\n",
      "| akash|pravin|   300|\n",
      "+------+------+------+\n",
      "\n",
      "+-----------+\n",
      "|avg(amount)|\n",
      "+-----------+\n",
      "|      200.0|\n",
      "+-----------+\n",
      "\n"
     ]
    }
   ],
   "source": [
    "#agg\n",
    "\n",
    "x = sqlContext.createDataFrame([(\"vinay\",\"sunny\",100),(\"deepak\",\"parag\",200),(\"akash\",\"pravin\",300)],['from','to','amount'])\n",
    "y = x.agg({\"amount\":\"avg\"})\n",
    "\n",
    "x.show()\n",
    "y.show()"
   ]
  },
  {
   "cell_type": "code",
   "execution_count": 6,
   "metadata": {},
   "outputs": [
    {
     "name": "stdout",
     "output_type": "stream",
     "text": [
      "+------+------+------+\n",
      "|  from|    to|amount|\n",
      "+------+------+------+\n",
      "| vinay| sunny|   100|\n",
      "|deepak| parag|   200|\n",
      "| akash|pravin|   300|\n",
      "+------+------+------+\n",
      "\n",
      "+------+\n",
      "|    to|\n",
      "+------+\n",
      "| sunny|\n",
      "| parag|\n",
      "|pravin|\n",
      "+------+\n",
      "\n"
     ]
    }
   ],
   "source": [
    "#alias\n",
    "from pyspark.sql.functions import col\n",
    "x = sqlContext.createDataFrame([(\"vinay\",\"sunny\",100),(\"deepak\",\"parag\",200),(\"akash\",\"pravin\",300)],['from','to','amount'])\n",
    "y = x.alias(\"transactions\")\n",
    "\n",
    "x.show()\n",
    "y.select(col(\"transactions.to\")).show()"
   ]
  },
  {
   "cell_type": "code",
   "execution_count": 7,
   "metadata": {},
   "outputs": [
    {
     "name": "stdout",
     "output_type": "stream",
     "text": [
      "3\n",
      "3\n"
     ]
    }
   ],
   "source": [
    "#cache \n",
    "\n",
    "x = sqlContext.createDataFrame([(\"vinay\",\"sunny\",100),(\"deepak\",\"parag\",200),(\"akash\",\"pravin\",300)],['from','to','amount'])\n",
    "x.cache()\n",
    "\n",
    "print(x.count()) #first action materializes x in memory\n",
    "print(x.count()) #later actions avoid IO overhead"
   ]
  },
  {
   "cell_type": "code",
   "execution_count": 10,
   "metadata": {
    "scrolled": true
   },
   "outputs": [
    {
     "name": "stdout",
     "output_type": "stream",
     "text": [
      "4\n",
      "1\n",
      "+------+------+------+\n",
      "|  from|    to|amount|\n",
      "+------+------+------+\n",
      "| vinay| sunny|   100|\n",
      "|deepak| parag|   200|\n",
      "| akash|pravin|   300|\n",
      "+------+------+------+\n",
      "\n",
      "+------+------+------+\n",
      "|  from|    to|amount|\n",
      "+------+------+------+\n",
      "| vinay| sunny|   100|\n",
      "|deepak| parag|   200|\n",
      "| akash|pravin|   300|\n",
      "+------+------+------+\n",
      "\n"
     ]
    }
   ],
   "source": [
    "#coalesce\n",
    "\n",
    "x_rdd = sc.parallelize([(\"vinay\",\"sunny\",100),(\"deepak\",\"parag\",200),(\"akash\",\"pravin\",300)],4)\n",
    "x = sqlContext.createDataFrame(x_rdd,['from','to','amount'])\n",
    "y = x.coalesce(numPartitions=1)\n",
    "\n",
    "print(x.rdd.getNumPartitions())\n",
    "print(y.rdd.getNumPartitions())\n",
    "\n",
    "x.show()\n",
    "y.show()"
   ]
  },
  {
   "cell_type": "code",
   "execution_count": 13,
   "metadata": {},
   "outputs": [
    {
     "name": "stdout",
     "output_type": "stream",
     "text": [
      "+------+------+------+\n",
      "|  from|    to|amount|\n",
      "+------+------+------+\n",
      "| vinay| sunny|   100|\n",
      "|deepak| parag|   200|\n",
      "| akash|pravin|   300|\n",
      "+------+------+------+\n",
      "\n",
      "[Row(from='vinay', to='sunny', amount=100), Row(from='deepak', to='parag', amount=200), Row(from='akash', to='pravin', amount=300)]\n"
     ]
    }
   ],
   "source": [
    "#collect\n",
    "\n",
    "x = sqlContext.createDataFrame([(\"vinay\",\"sunny\",100),(\"deepak\",\"parag\",200),(\"akash\",\"pravin\",300)],['from','to','amount'])\n",
    "y = x.collect() # it creates list of rows.\n",
    "x.show()\n",
    "print(y)"
   ]
  },
  {
   "cell_type": "code",
   "execution_count": 14,
   "metadata": {},
   "outputs": [
    {
     "name": "stdout",
     "output_type": "stream",
     "text": [
      "+------+------+------+\n",
      "|  from|    to|amount|\n",
      "+------+------+------+\n",
      "| vinay| sunny|   100|\n",
      "|deepak| parag|   200|\n",
      "| akash|pravin|   300|\n",
      "+------+------+------+\n",
      "\n",
      "['from', 'to', 'amount']\n"
     ]
    }
   ],
   "source": [
    "#columns \n",
    "\n",
    "x = sqlContext.createDataFrame([(\"vinay\",\"sunny\",100),(\"deepak\",\"parag\",200),(\"akash\",\"pravin\",300)],['from','to','amount'])\n",
    "\n",
    "y = x.columns\n",
    "x.show()\n",
    "print(y)"
   ]
  },
  {
   "cell_type": "code",
   "execution_count": 18,
   "metadata": {},
   "outputs": [
    {
     "name": "stdout",
     "output_type": "stream",
     "text": [
      "+------+------+------+----+\n",
      "|  from|    to|amount|fees|\n",
      "+------+------+------+----+\n",
      "| vinay| sunny|   100| 300|\n",
      "|deepak| parag|   200| 600|\n",
      "| akash|pravin|   300| 900|\n",
      "+------+------+------+----+\n",
      "\n",
      "1.0\n"
     ]
    }
   ],
   "source": [
    "#corr : Calculates the correlation of\n",
    "# two columns of a DataFrame as a double value. \n",
    "\n",
    "x = sqlContext.createDataFrame([(\"vinay\",\"sunny\",100,300),(\"deepak\",\"parag\",200,600),(\"akash\",\"pravin\",300,900)], ['from','to','amount','fees'])\n",
    "y = x.corr(col1=\"amount\",col2=\"fees\")\n",
    "x.show()\n",
    "print(y)"
   ]
  },
  {
   "cell_type": "code",
   "execution_count": 19,
   "metadata": {},
   "outputs": [
    {
     "name": "stdout",
     "output_type": "stream",
     "text": [
      "+------+------+------+\n",
      "|  from|    to|amount|\n",
      "+------+------+------+\n",
      "| vinay| sunny|   100|\n",
      "|deepak| parag|   200|\n",
      "| akash|pravin|   300|\n",
      "+------+------+------+\n",
      "\n",
      "3\n"
     ]
    }
   ],
   "source": [
    "#count \n",
    "#Returns the number of rows in this DataFrame.\n",
    "x = sqlContext.createDataFrame([(\"vinay\",\"sunny\",100),(\"deepak\",\"parag\",200),(\"akash\",\"pravin\",300)],['from','to','amount'])\n",
    "x.show()\n",
    "print(x.count())"
   ]
  },
  {
   "cell_type": "code",
   "execution_count": 20,
   "metadata": {},
   "outputs": [
    {
     "name": "stdout",
     "output_type": "stream",
     "text": [
      "+------+------+------+----+\n",
      "|  from|    to|amount|fees|\n",
      "+------+------+------+----+\n",
      "| vinay| sunny|   100| 300|\n",
      "|deepak| parag|   200| 600|\n",
      "| akash|pravin|   300| 900|\n",
      "+------+------+------+----+\n",
      "\n",
      "30000.0\n"
     ]
    }
   ],
   "source": [
    "#cov\n",
    "#Calculate the sample covariance for the given columns,\n",
    "#specified by their names, as a double value. \n",
    "\n",
    "x = sqlContext.createDataFrame([(\"vinay\",\"sunny\",100,300),(\"deepak\",\"parag\",200,600),(\"akash\",\"pravin\",300,900)], ['from','to','amount','fees'])\n",
    "y = x.cov(col1=\"amount\",col2=\"fees\")\n",
    "\n",
    "x.show()\n",
    "print(y)"
   ]
  },
  {
   "cell_type": "code",
   "execution_count": 24,
   "metadata": {},
   "outputs": [
    {
     "name": "stdout",
     "output_type": "stream",
     "text": [
      "+-----+------+---+\n",
      "| from|    to|amt|\n",
      "+-----+------+---+\n",
      "|vinay|deepak|0.1|\n",
      "|sunny|pratik|0.2|\n",
      "|parag| akash|0.3|\n",
      "+-----+------+---+\n",
      "\n",
      "+-------+-----+------+------+\n",
      "|from_to|akash|deepak|pratik|\n",
      "+-------+-----+------+------+\n",
      "|  parag|    1|     0|     0|\n",
      "|  vinay|    0|     1|     0|\n",
      "|  sunny|    0|     0|     1|\n",
      "+-------+-----+------+------+\n",
      "\n"
     ]
    }
   ],
   "source": [
    "#crosstab\n",
    "x = sqlContext.createDataFrame([(\"vinay\",\"deepak\",0.1),(\"sunny\",\"pratik\",0.2),(\"parag\",\"akash\",0.3)], ['from','to','amt'])\n",
    "y = x.crosstab(col1='from',col2='to')\n",
    "x.show()\n",
    "y.show()\n"
   ]
  },
  {
   "cell_type": "markdown",
   "metadata": {},
   "source": [
    "### col1 – The name of the first column. Distinct items will make the first item of each row.\n",
    "### col2 – The name of the second column. Distinct items will make the column names of the DataFrame."
   ]
  },
  {
   "cell_type": "code",
   "execution_count": 27,
   "metadata": {},
   "outputs": [
    {
     "name": "stdout",
     "output_type": "stream",
     "text": [
      "+-----+------+---+\n",
      "| from|    to|amt|\n",
      "+-----+------+---+\n",
      "|vinay|deepak|  1|\n",
      "|sunny|pratik|  2|\n",
      "|parag| akash|  3|\n",
      "+-----+------+---+\n",
      "\n",
      "<pyspark.sql.group.GroupedData object at 0x000001D968C4A320>\n",
      "+-----+------+--------+\n",
      "| from|    to|sum(amt)|\n",
      "+-----+------+--------+\n",
      "| null| akash|       3|\n",
      "| null|  null|       6|\n",
      "|vinay|deepak|       1|\n",
      "|vinay|  null|       1|\n",
      "| null|deepak|       1|\n",
      "|parag| akash|       3|\n",
      "| null|pratik|       2|\n",
      "|parag|  null|       3|\n",
      "|sunny|  null|       2|\n",
      "|sunny|pratik|       2|\n",
      "+-----+------+--------+\n",
      "\n",
      "+-----+------+--------+\n",
      "| from|    to|max(amt)|\n",
      "+-----+------+--------+\n",
      "| null| akash|       3|\n",
      "| null|  null|       3|\n",
      "|vinay|deepak|       1|\n",
      "|vinay|  null|       1|\n",
      "| null|deepak|       1|\n",
      "|parag| akash|       3|\n",
      "| null|pratik|       2|\n",
      "|parag|  null|       3|\n",
      "|sunny|  null|       2|\n",
      "|sunny|pratik|       2|\n",
      "+-----+------+--------+\n",
      "\n"
     ]
    }
   ],
   "source": [
    "#cube\n",
    "\n",
    "# Create a multi-dimensional cube for the current DataFrame using the specified columns,\n",
    "# so we can run aggregation on them\n",
    "\n",
    "x = sqlContext.createDataFrame([(\"vinay\",\"deepak\",1),(\"sunny\",\"pratik\",2),(\"parag\",\"akash\",3)], ['from','to','amt'])\n",
    "\n",
    "y = x.cube('from','to')\n",
    "x.show()\n",
    "print(y)\n",
    "y.sum().show()\n",
    "y.max().show()"
   ]
  },
  {
   "cell_type": "code",
   "execution_count": 28,
   "metadata": {},
   "outputs": [
    {
     "name": "stdout",
     "output_type": "stream",
     "text": [
      "+-----+------+---+\n",
      "| from|    to|amt|\n",
      "+-----+------+---+\n",
      "|vinay|deepak|  1|\n",
      "|sunny|pratik|  2|\n",
      "|parag| akash|  3|\n",
      "+-----+------+---+\n",
      "\n",
      "+-------+-----+------+---+\n",
      "|summary| from|    to|amt|\n",
      "+-------+-----+------+---+\n",
      "|  count|    3|     3|  3|\n",
      "|   mean| null|  null|2.0|\n",
      "| stddev| null|  null|1.0|\n",
      "|    min|parag| akash|  1|\n",
      "|    max|vinay|pratik|  3|\n",
      "+-------+-----+------+---+\n",
      "\n"
     ]
    }
   ],
   "source": [
    "# Describe \n",
    "\n",
    "x = sqlContext.createDataFrame([(\"vinay\",\"deepak\",1),(\"sunny\",\"pratik\",2),(\"parag\",\"akash\",3)], ['from','to','amt'])\n",
    "\n",
    "x.show()\n",
    "x.describe().show()"
   ]
  },
  {
   "cell_type": "code",
   "execution_count": 30,
   "metadata": {},
   "outputs": [
    {
     "name": "stdout",
     "output_type": "stream",
     "text": [
      "+-----+------+---+\n",
      "| from|    to|amt|\n",
      "+-----+------+---+\n",
      "|vinay|deepak|  1|\n",
      "|sunny|pratik|  2|\n",
      "|parag| akash|  3|\n",
      "|parag| akash|  3|\n",
      "|parag| akash|  3|\n",
      "+-----+------+---+\n",
      "\n",
      "+-----+------+---+\n",
      "| from|    to|amt|\n",
      "+-----+------+---+\n",
      "|sunny|pratik|  2|\n",
      "|vinay|deepak|  1|\n",
      "|parag| akash|  3|\n",
      "+-----+------+---+\n",
      "\n"
     ]
    }
   ],
   "source": [
    "# Distinct \n",
    "\n",
    "x = sqlContext.createDataFrame([(\"vinay\",\"deepak\",1),(\"sunny\",\"pratik\",2),(\"parag\",\"akash\",3),(\"parag\",\"akash\",3),(\"parag\",\"akash\",3)], ['from','to','amt'])\n",
    "y = x.distinct()\n",
    "\n",
    "x.show()\n",
    "y.show()"
   ]
  },
  {
   "cell_type": "code",
   "execution_count": 32,
   "metadata": {},
   "outputs": [
    {
     "name": "stdout",
     "output_type": "stream",
     "text": [
      "+-----+------+---+\n",
      "| from|    to|amt|\n",
      "+-----+------+---+\n",
      "|vinay|deepak|  1|\n",
      "|sunny|pratik|  2|\n",
      "|parag| akash|  3|\n",
      "+-----+------+---+\n",
      "\n",
      "+-----+------+\n",
      "| from|    to|\n",
      "+-----+------+\n",
      "|vinay|deepak|\n",
      "|sunny|pratik|\n",
      "|parag| akash|\n",
      "+-----+------+\n",
      "\n"
     ]
    }
   ],
   "source": [
    "# Drop \n",
    "\n",
    "x = sqlContext.createDataFrame([(\"vinay\",\"deepak\",1),(\"sunny\",\"pratik\",2),(\"parag\",\"akash\",3)], ['from','to','amt'])\n",
    "y = x.drop('amt')\n",
    "\n",
    "x.show()\n",
    "y.show()"
   ]
  },
  {
   "cell_type": "code",
   "execution_count": 1,
   "metadata": {},
   "outputs": [
    {
     "name": "stdout",
     "output_type": "stream",
     "text": [
      "+-----+------+---+\n",
      "| from|    to|amt|\n",
      "+-----+------+---+\n",
      "|vinay|deepak|  1|\n",
      "|sunny|pratik|  2|\n",
      "|parag| akash|  3|\n",
      "|parag| akash|  3|\n",
      "|parag| akash|  3|\n",
      "+-----+------+---+\n",
      "\n",
      "+-----+------+---+\n",
      "| from|    to|amt|\n",
      "+-----+------+---+\n",
      "|vinay|deepak|  1|\n",
      "|sunny|pratik|  2|\n",
      "|parag| akash|  3|\n",
      "+-----+------+---+\n",
      "\n"
     ]
    }
   ],
   "source": [
    "# dropDuplicates\n",
    "\n",
    "x = sqlContext.createDataFrame([(\"vinay\",\"deepak\",1),(\"sunny\",\"pratik\",2),(\"parag\",\"akash\",3),(\"parag\",\"akash\",3),(\"parag\",\"akash\",3)], ['from','to','amt'])\n",
    "y = x.dropDuplicates(subset=['from','to'])\n",
    "\n",
    "x.show()\n",
    "y.show()"
   ]
  },
  {
   "cell_type": "code",
   "execution_count": 4,
   "metadata": {},
   "outputs": [
    {
     "name": "stdout",
     "output_type": "stream",
     "text": [
      "+-----+-----+------+\n",
      "| from|   to|amount|\n",
      "+-----+-----+------+\n",
      "| null|vinay|   0.1|\n",
      "|vinay|sunny|  null|\n",
      "|Peter| null|   0.3|\n",
      "| Mark|Steve|   0.2|\n",
      "+-----+-----+------+\n",
      "\n",
      "+-----+-----+------+\n",
      "| from|   to|amount|\n",
      "+-----+-----+------+\n",
      "|vinay|sunny|  null|\n",
      "| Mark|Steve|   0.2|\n",
      "+-----+-----+------+\n",
      "\n"
     ]
    }
   ],
   "source": [
    "#dropna \n",
    "x = sqlContext.createDataFrame([(None,\"vinay\",0.1),(\"vinay\",\"sunny\",None),(\"Peter\",None,0.3),(\"Mark\",\"Steve\",0.2)], ['from','to','amount'])\n",
    "y = x.dropna(how='any',subset=['from','to'])\n",
    "x.show()\n",
    "y.show()"
   ]
  },
  {
   "cell_type": "code",
   "execution_count": 5,
   "metadata": {},
   "outputs": [
    {
     "name": "stdout",
     "output_type": "stream",
     "text": [
      "+-----+------+---+\n",
      "| from|    to|amt|\n",
      "+-----+------+---+\n",
      "|vinay|deepak|  1|\n",
      "|sunny|pratik|  2|\n",
      "|parag| akash|  3|\n",
      "|parag| akash|  3|\n",
      "|parag| akash|  3|\n",
      "+-----+------+---+\n",
      "\n",
      "[('from', 'string'), ('to', 'string'), ('amt', 'bigint')]\n"
     ]
    }
   ],
   "source": [
    "#dtypes\n",
    "\n",
    "x = sqlContext.createDataFrame([(\"vinay\",\"deepak\",1),(\"sunny\",\"pratik\",2),(\"parag\",\"akash\",3),(\"parag\",\"akash\",3),(\"parag\",\"akash\",3)], ['from','to','amt'])\n",
    "y = x.dtypes\n",
    "\n",
    "x.show()\n",
    "print(y)"
   ]
  },
  {
   "cell_type": "code",
   "execution_count": 8,
   "metadata": {},
   "outputs": [
    {
     "name": "stdout",
     "output_type": "stream",
     "text": [
      "+-----+------+---+\n",
      "| from|    to|amt|\n",
      "+-----+------+---+\n",
      "|vinay|deepak|  1|\n",
      "|sunny|pratik|  2|\n",
      "|parag| akash|  3|\n",
      "+-----+------+---+\n",
      "\n",
      "== Parsed Logical Plan ==\n",
      "'Aggregate ['avg(amt#169L) AS avg(amt)#187]\n",
      "+- AnalysisBarrier\n",
      "      +- LogicalRDD [from#167, to#168, amt#169L], false\n",
      "\n",
      "== Analyzed Logical Plan ==\n",
      "avg(amt): double\n",
      "Aggregate [avg(amt#169L) AS avg(amt)#187]\n",
      "+- LogicalRDD [from#167, to#168, amt#169L], false\n",
      "\n",
      "== Optimized Logical Plan ==\n",
      "Aggregate [avg(amt#169L) AS avg(amt)#187]\n",
      "+- Project [amt#169L]\n",
      "   +- LogicalRDD [from#167, to#168, amt#169L], false\n",
      "\n",
      "== Physical Plan ==\n",
      "*(2) HashAggregate(keys=[], functions=[avg(amt#169L)], output=[avg(amt)#187])\n",
      "+- Exchange SinglePartition\n",
      "   +- *(1) HashAggregate(keys=[], functions=[partial_avg(amt#169L)], output=[sum#192, count#193L])\n",
      "      +- *(1) Project [amt#169L]\n",
      "         +- Scan ExistingRDD[from#167,to#168,amt#169L]\n"
     ]
    }
   ],
   "source": [
    "#Explain\n",
    "\n",
    "x = sqlContext.createDataFrame([(\"vinay\",\"deepak\",1),(\"sunny\",\"pratik\",2),(\"parag\",\"akash\",3)], ['from','to','amt'])\n",
    "x.show()\n",
    "\n",
    "x.agg({\"amt\":\"avg\"}).explain(extended = True)\n",
    "\n"
   ]
  },
  {
   "cell_type": "code",
   "execution_count": 10,
   "metadata": {},
   "outputs": [
    {
     "name": "stdout",
     "output_type": "stream",
     "text": [
      "+-----+------+---+\n",
      "| from|    to|amt|\n",
      "+-----+------+---+\n",
      "| null|deepak|  1|\n",
      "|sunny|  null|  2|\n",
      "|parag|  null|  3|\n",
      "+-----+------+---+\n",
      "\n",
      "+-----+------+---+\n",
      "| from|    to|amt|\n",
      "+-----+------+---+\n",
      "|  ---|deepak|  1|\n",
      "|sunny|   ---|  2|\n",
      "|parag|   ---|  3|\n",
      "+-----+------+---+\n",
      "\n"
     ]
    }
   ],
   "source": [
    "#fillna \n",
    "\n",
    "x = sqlContext.createDataFrame([(None,\"deepak\",1),(\"sunny\",None,2),(\"parag\",None,3)], ['from','to','amt'])\n",
    "y = x.fillna(value = '---',subset = ['from','to'])\n",
    "\n",
    "x.show()\n",
    "y.show()"
   ]
  },
  {
   "cell_type": "markdown",
   "metadata": {},
   "source": [
    "## Filter (Most used api)"
   ]
  },
  {
   "cell_type": "code",
   "execution_count": 11,
   "metadata": {},
   "outputs": [
    {
     "name": "stdout",
     "output_type": "stream",
     "text": [
      "+-----+------+---+\n",
      "| from|    to|amt|\n",
      "+-----+------+---+\n",
      "|vinay|deepak|  1|\n",
      "|sunny|pratik|  2|\n",
      "|parag| akash|  3|\n",
      "+-----+------+---+\n",
      "\n",
      "+-----+-----+---+\n",
      "| from|   to|amt|\n",
      "+-----+-----+---+\n",
      "|parag|akash|  3|\n",
      "+-----+-----+---+\n",
      "\n"
     ]
    }
   ],
   "source": [
    "# Filter \n",
    "\n",
    "x = sqlContext.createDataFrame([(\"vinay\",\"deepak\",1),(\"sunny\",\"pratik\",2),(\"parag\",\"akash\",3)], ['from','to','amt'])\n",
    "y = x.filter(\"amt > 2 \")\n",
    "\n",
    "x.show()\n",
    "y.show()"
   ]
  },
  {
   "cell_type": "code",
   "execution_count": 12,
   "metadata": {},
   "outputs": [
    {
     "name": "stdout",
     "output_type": "stream",
     "text": [
      "+-----+------+---+\n",
      "| from|    to|amt|\n",
      "+-----+------+---+\n",
      "|vinay|deepak|  1|\n",
      "|sunny|pratik|  2|\n",
      "|parag| akash|  3|\n",
      "+-----+------+---+\n",
      "\n",
      "Row(from='vinay', to='deepak', amt=1)\n"
     ]
    }
   ],
   "source": [
    "# First\n",
    "\n",
    "x = sqlContext.createDataFrame([(\"vinay\",\"deepak\",1),(\"sunny\",\"pratik\",2),(\"parag\",\"akash\",3)], ['from','to','amt'])\n",
    "y = x.first()\n",
    "\n",
    "x.show()\n",
    "print(y)"
   ]
  },
  {
   "cell_type": "markdown",
   "metadata": {},
   "source": [
    "## Foreach "
   ]
  },
  {
   "cell_type": "code",
   "execution_count": 16,
   "metadata": {},
   "outputs": [
    {
     "name": "stdout",
     "output_type": "stream",
     "text": [
      "+-----+------+---+\n",
      "| from|    to|amt|\n",
      "+-----+------+---+\n",
      "|vinay|deepak|  1|\n",
      "|sunny|pratik|  2|\n",
      "|parag| akash|  3|\n",
      "+-----+------+---+\n",
      "\n",
      "None\n",
      "Row(from='vinay', to='deepak', amt=1)\n",
      "Row(from='sunny', to='pratik', amt=2)\n",
      "\n"
     ]
    }
   ],
   "source": [
    "# foreach\n",
    "from __future__ import print_function\n",
    "\n",
    "# setup\n",
    "fn = './foreachExampleDataFrames.txt' \n",
    "open(fn, 'w').close()  # clear the file\n",
    "def fappend(el,f):\n",
    "    '''appends el to file f'''\n",
    "    print(el,file=open(f, 'a+') )\n",
    "\n",
    "# example\n",
    "x = sqlContext.createDataFrame([(\"vinay\",\"deepak\",1),(\"sunny\",\"pratik\",2),(\"parag\",\"akash\",3)], ['from','to','amt'])\n",
    "\n",
    "y = x.foreach(lambda x: fappend(x,fn)) # writes into foreachExampleDataFrames.txt\n",
    "x.show() # original dataframe\n",
    "print(y) # foreach returns 'None'\n",
    "# print the contents of the file\n",
    "with open(fn, \"r\") as foreachExample:\n",
    "    print (foreachExample.read())"
   ]
  },
  {
   "cell_type": "code",
   "execution_count": 1,
   "metadata": {},
   "outputs": [
    {
     "name": "stdout",
     "output_type": "stream",
     "text": [
      "+-----+------+---+\n",
      "| from|    to|amt|\n",
      "+-----+------+---+\n",
      "|vinay|deepak|  1|\n",
      "|sunny|pratik|  2|\n",
      "|parag| akash|  3|\n",
      "+-----+------+---+\n",
      "\n",
      "None\n",
      "Row(from='parag', to='akash', amt=3)\n",
      "Row(from='sunny', to='pratik', amt=2)\n",
      "Row(from='vinay', to='deepak', amt=1)\n",
      "\n"
     ]
    }
   ],
   "source": [
    "# foreachPartition\n",
    "from __future__ import print_function\n",
    "\n",
    "# setup\n",
    "fn = './foreachExampleDataFrames.txt' \n",
    "open(fn, 'w').close()  # clear the file\n",
    "def fappend(el,f):\n",
    "    '''appends el to file f'''\n",
    "    print(el,file=open(f, 'a+') )\n",
    "\n",
    "# example\n",
    "x = sqlContext.createDataFrame([(\"vinay\",\"deepak\",1),(\"sunny\",\"pratik\",2),(\"parag\",\"akash\",3)], ['from','to','amt'])\n",
    "\n",
    "y = x.foreach(lambda x: fappend(x,fn)) # writes into foreachExampleDataFrames.txt\n",
    "x.show() # original dataframe\n",
    "print(y) # foreach returns 'None'\n",
    "# print the contents of the file\n",
    "with open(fn, \"r\") as foreachExample:\n",
    "    print (foreachExample.read())"
   ]
  },
  {
   "cell_type": "code",
   "execution_count": 3,
   "metadata": {},
   "outputs": [
    {
     "name": "stdout",
     "output_type": "stream",
     "text": [
      "+-------+-------+------+\n",
      "|   from|     to|amount|\n",
      "+-------+-------+------+\n",
      "|  Vinay|  sunny|    50|\n",
      "| Deepak|  sunny|    30|\n",
      "|  Vinay|  Parag|    20|\n",
      "|  Vinay|    ram|    50|\n",
      "|   sham|  sunny|    90|\n",
      "|  Vinay|pushpak|    50|\n",
      "|     om|  sunny|    50|\n",
      "|  sagar|  sunny|    50|\n",
      "|  Vinay|  rahul|    80|\n",
      "|  akash|  sunny|    50|\n",
      "|puranik| pranav|    70|\n",
      "+-------+-------+------+\n",
      "\n",
      "+--------------+----------------+\n",
      "|from_freqItems|amount_freqItems|\n",
      "+--------------+----------------+\n",
      "|       [Vinay]|            [50]|\n",
      "+--------------+----------------+\n",
      "\n"
     ]
    }
   ],
   "source": [
    "# freqItems \n",
    "\n",
    "x = sqlContext.createDataFrame([(\"Vinay\",\"sunny\",50), \\\n",
    "                                (\"Deepak\",\"sunny\",30), \\\n",
    "                                (\"Vinay\",\"Parag\",20), \\\n",
    "                                (\"Vinay\",\"ram\",50), \\\n",
    "                                (\"sham\",\"sunny\",90), \\\n",
    "                                (\"Vinay\",\"pushpak\",50), \\\n",
    "                                (\"om\",\"sunny\",50), \\\n",
    "                                (\"sagar\",\"sunny\",50), \\\n",
    "                                (\"Vinay\",\"rahul\",80), \\\n",
    "                                (\"akash\",\"sunny\",50), \\\n",
    "                                (\"puranik\",\"pranav\",70)],\\\n",
    "                                ['from','to','amount'])\n",
    "\n",
    "y = x.freqItems(cols=['from','amount'],support=0.8)\n",
    "\n",
    "x.show()\n",
    "y.show()"
   ]
  },
  {
   "cell_type": "markdown",
   "metadata": {},
   "source": [
    "## groupBy (most used api)"
   ]
  },
  {
   "cell_type": "code",
   "execution_count": 7,
   "metadata": {},
   "outputs": [
    {
     "name": "stdout",
     "output_type": "stream",
     "text": [
      "+-----+------+---+\n",
      "| from|    to|amt|\n",
      "+-----+------+---+\n",
      "|vinay|deepak|  1|\n",
      "|sunny|pratik|  2|\n",
      "|parag| akash|  3|\n",
      "+-----+------+---+\n",
      "\n",
      "<pyspark.sql.group.GroupedData object at 0x0000021742513CC0>\n"
     ]
    }
   ],
   "source": [
    "# groupBy\n",
    "\n",
    "x = sqlContext.createDataFrame([(\"vinay\",\"deepak\",1),(\"sunny\",\"pratik\",2),(\"parag\",\"akash\",3)], ['from','to','amt'])\n",
    "y = x.groupBy('amt')\n",
    "\n",
    "x.show()\n",
    "print(y)\n"
   ]
  },
  {
   "cell_type": "code",
   "execution_count": 9,
   "metadata": {},
   "outputs": [
    {
     "name": "stdout",
     "output_type": "stream",
     "text": [
      "+-----+------+--------+\n",
      "| from|    to|     amt|\n",
      "+-----+------+--------+\n",
      "|vinay|deepak|12466641|\n",
      "|sunny|pratik|  451232|\n",
      "|parag| akash| 2555455|\n",
      "+-----+------+--------+\n",
      "\n",
      "+-----+-----------+\n",
      "| from|   avg(amt)|\n",
      "+-----+-----------+\n",
      "|parag|  2555455.0|\n",
      "|sunny|   451232.0|\n",
      "|vinay|1.2466641E7|\n",
      "+-----+-----------+\n",
      "\n"
     ]
    }
   ],
   "source": [
    "# groupBy (col1).avg(col2)\n",
    "\n",
    "x = sqlContext.createDataFrame([(\"vinay\",\"deepak\",12466641),(\"sunny\",\"pratik\",451232),(\"parag\",\"akash\",2555455)], ['from','to','amt'])\n",
    "y = x.groupBy('from').avg('amt')\n",
    "\n",
    "x.show()\n",
    "y.show()\n"
   ]
  },
  {
   "cell_type": "code",
   "execution_count": 10,
   "metadata": {},
   "outputs": [
    {
     "name": "stdout",
     "output_type": "stream",
     "text": [
      "+-----+------+--------+\n",
      "| from|    to|     amt|\n",
      "+-----+------+--------+\n",
      "|vinay|deepak|12466641|\n",
      "|sunny|pratik|  451232|\n",
      "|parag| akash| 2555455|\n",
      "+-----+------+--------+\n",
      "\n",
      "[Row(from='vinay', to='deepak', amt=12466641), Row(from='sunny', to='pratik', amt=451232)]\n"
     ]
    }
   ],
   "source": [
    "# head\n",
    "\n",
    "x = sqlContext.createDataFrame([(\"vinay\",\"deepak\",12466641),(\"sunny\",\"pratik\",451232),(\"parag\",\"akash\",2555455)], ['from','to','amt'])\n",
    "\n",
    "y = x.head(2)\n",
    "x.show()\n",
    "print(y)"
   ]
  },
  {
   "cell_type": "code",
   "execution_count": 14,
   "metadata": {
    "scrolled": true
   },
   "outputs": [
    {
     "name": "stdout",
     "output_type": "stream",
     "text": [
      "+-----+------+--------+\n",
      "| from|    to|     amt|\n",
      "+-----+------+--------+\n",
      "|vinay|deepak|12466641|\n",
      "|sunny|pratik|  451232|\n",
      "|parag| akash| 2555455|\n",
      "|parag| akash| 2555455|\n",
      "+-----+------+--------+\n",
      "\n",
      "+-----+-------+--------+\n",
      "| from|     to|     amt|\n",
      "+-----+-------+--------+\n",
      "|vinay| deepak|12466641|\n",
      "|sunny| pratik|  451232|\n",
      "|parag|  akash| 2555455|\n",
      "|parag|akashay| 2555455|\n",
      "+-----+-------+--------+\n",
      "\n",
      "+-----+------+--------+\n",
      "| from|    to|     amt|\n",
      "+-----+------+--------+\n",
      "|sunny|pratik|  451232|\n",
      "|vinay|deepak|12466641|\n",
      "|parag| akash| 2555455|\n",
      "+-----+------+--------+\n",
      "\n"
     ]
    }
   ],
   "source": [
    "# intersect\n",
    "\n",
    "x = sqlContext.createDataFrame([(\"vinay\",\"deepak\",12466641),(\"sunny\",\"pratik\",451232),(\"parag\",\"akash\",2555455),(\"parag\",\"akash\",2555455)], ['from','to','amt'])\n",
    "\n",
    "y = sqlContext.createDataFrame([(\"vinay\",\"deepak\",12466641),(\"sunny\",\"pratik\",451232),(\"parag\",\"akash\",2555455),(\"parag\",\"akashay\",2555455)], ['from','to','amt'])\n",
    "\n",
    "z = x.intersect(y)\n",
    "\n",
    "x.show()\n",
    "y.show()\n",
    "z.show()"
   ]
  },
  {
   "cell_type": "code",
   "execution_count": 17,
   "metadata": {},
   "outputs": [
    {
     "name": "stdout",
     "output_type": "stream",
     "text": [
      "+-----+------+--------+\n",
      "| from|    to|     amt|\n",
      "+-----+------+--------+\n",
      "|vinay|deepak|12466641|\n",
      "|sunny|pratik|  451232|\n",
      "|parag| akash| 2555455|\n",
      "|parag| akash| 2555455|\n",
      "+-----+------+--------+\n",
      "\n",
      "False\n"
     ]
    }
   ],
   "source": [
    "# isLocal\n",
    "\n",
    "x = sqlContext.createDataFrame([(\"vinay\",\"deepak\",12466641),(\"sunny\",\"pratik\",451232),(\"parag\",\"akash\",2555455),(\"parag\",\"akash\",2555455)], ['from','to','amt'])\n",
    "\n",
    "\n",
    "y = x.isLocal()\n",
    "\n",
    "x.show()\n",
    "print(y)\n"
   ]
  },
  {
   "cell_type": "markdown",
   "metadata": {},
   "source": [
    "## join (Most used api)"
   ]
  },
  {
   "cell_type": "code",
   "execution_count": 19,
   "metadata": {},
   "outputs": [
    {
     "name": "stdout",
     "output_type": "stream",
     "text": [
      "+------+------+--------+\n",
      "|  from|    to|     amt|\n",
      "+------+------+--------+\n",
      "| vinay|deepak|12466641|\n",
      "| sunny|pratik|  451232|\n",
      "| parag| akash| 2555455|\n",
      "|Salman| akash| 2555455|\n",
      "+------+------+--------+\n",
      "\n",
      "+-----+---+\n",
      "| name|age|\n",
      "+-----+---+\n",
      "| Andy| 20|\n",
      "|Steve| 40|\n",
      "| Elon| 80|\n",
      "+-----+---+\n",
      "\n",
      "+----+---+---+---+\n",
      "|from| to|amt|age|\n",
      "+----+---+---+---+\n",
      "+----+---+---+---+\n",
      "\n"
     ]
    }
   ],
   "source": [
    "# join \n",
    "x = sqlContext.createDataFrame([(\"vinay\",\"deepak\",12466641),(\"sunny\",\"pratik\",451232),(\"parag\",\"akash\",2555455),(\"Salman\",\"akash\",2555455)], ['from','to','amt'])\n",
    "y = sqlContext.createDataFrame([('Andy',20),(\"Steve\",40),(\"Elon\",80)], ['name','age'])\n",
    "z = x.join(y,x.to ==y.name,'inner').select('from','to','amt','age')\n",
    "x.show()\n",
    "y.show()\n",
    "z.show()"
   ]
  },
  {
   "cell_type": "code",
   "execution_count": 20,
   "metadata": {},
   "outputs": [
    {
     "name": "stdout",
     "output_type": "stream",
     "text": [
      "+------+------+--------+\n",
      "|  from|    to|     amt|\n",
      "+------+------+--------+\n",
      "| vinay|deepak|12466641|\n",
      "| sunny|pratik|  451232|\n",
      "| parag| akash| 2555455|\n",
      "|Salman| akash| 2555455|\n",
      "+------+------+--------+\n",
      "\n",
      "+-----+---+\n",
      "| name|age|\n",
      "+-----+---+\n",
      "| Andy| 20|\n",
      "|Steve| 40|\n",
      "| Elon| 80|\n",
      "+-----+---+\n",
      "\n",
      "+------+------+--------+----+\n",
      "|  from|    to|     amt| age|\n",
      "+------+------+--------+----+\n",
      "|  null|  null|    null|  40|\n",
      "| sunny|pratik|  451232|null|\n",
      "| vinay|deepak|12466641|null|\n",
      "|  null|  null|    null|  20|\n",
      "| parag| akash| 2555455|null|\n",
      "|Salman| akash| 2555455|null|\n",
      "|  null|  null|    null|  80|\n",
      "+------+------+--------+----+\n",
      "\n"
     ]
    }
   ],
   "source": [
    "# join \n",
    "x = sqlContext.createDataFrame([(\"vinay\",\"deepak\",12466641),(\"sunny\",\"pratik\",451232),(\"parag\",\"akash\",2555455),(\"Salman\",\"akash\",2555455)], ['from','to','amt'])\n",
    "y = sqlContext.createDataFrame([('Andy',20),(\"Steve\",40),(\"Elon\",80)], ['name','age'])\n",
    "z = x.join(y,x.to ==y.name,'outer').select('from','to','amt','age')\n",
    "x.show()\n",
    "y.show()\n",
    "z.show()"
   ]
  },
  {
   "cell_type": "code",
   "execution_count": 21,
   "metadata": {},
   "outputs": [
    {
     "name": "stdout",
     "output_type": "stream",
     "text": [
      "+------+------+--------+\n",
      "|  from|    to|     amt|\n",
      "+------+------+--------+\n",
      "| vinay|deepak|12466641|\n",
      "| sunny|pratik|  451232|\n",
      "| parag| akash| 2555455|\n",
      "|Salman| akash| 2555455|\n",
      "+------+------+--------+\n",
      "\n",
      "+-----+------+--------+\n",
      "| from|    to|     amt|\n",
      "+-----+------+--------+\n",
      "|vinay|deepak|12466641|\n",
      "|sunny|pratik|  451232|\n",
      "+-----+------+--------+\n",
      "\n"
     ]
    }
   ],
   "source": [
    "# Limit\n",
    "\n",
    "# join \n",
    "x = sqlContext.createDataFrame([(\"vinay\",\"deepak\",12466641),(\"sunny\",\"pratik\",451232),(\"parag\",\"akash\",2555455),(\"Salman\",\"akash\",2555455)], ['from','to','amt'])\n",
    "y = x.limit(2)\n",
    "x.show()\n",
    "y.show()"
   ]
  },
  {
   "cell_type": "markdown",
   "metadata": {},
   "source": []
  },
  {
   "cell_type": "code",
   "execution_count": 27,
   "metadata": {},
   "outputs": [
    {
     "name": "stdout",
     "output_type": "stream",
     "text": [
      "+-----+-----+----+\n",
      "| from|   to| amt|\n",
      "+-----+-----+----+\n",
      "| null|  Bob| 0.1|\n",
      "|  Bob|Carol|null|\n",
      "|Carol| null| 0.3|\n",
      "|  Bob|Carol| 0.2|\n",
      "+-----+-----+----+\n",
      "\n",
      "<pyspark.sql.dataframe.DataFrameNaFunctions object at 0x0000021742513940>\n",
      "+----+-----+---+\n",
      "|from|   to|amt|\n",
      "+----+-----+---+\n",
      "| Bob|Carol|0.2|\n",
      "+----+-----+---+\n",
      "\n",
      "+-------+-------+---+\n",
      "|   from|     to|amt|\n",
      "+-------+-------+---+\n",
      "|unknown|    Bob|0.1|\n",
      "|    Bob|  Carol|0.0|\n",
      "|  Carol|unknown|0.3|\n",
      "|    Bob|  Carol|0.2|\n",
      "+-------+-------+---+\n",
      "\n",
      "+-----+-----+----+\n",
      "| from|   to| amt|\n",
      "+-----+-----+----+\n",
      "|   --|  Bob| 0.1|\n",
      "|  Bob|Carol|null|\n",
      "|Carol|   --| 0.3|\n",
      "|  Bob|Carol| 0.2|\n",
      "+-----+-----+----+\n",
      "\n"
     ]
    }
   ],
   "source": [
    "# na\n",
    "\n",
    "x = sqlContext.createDataFrame([(None,\"Bob\",0.1),(\"Bob\",\"Carol\",None),(\"Carol\",None,0.3),(\"Bob\",\"Carol\",0.2)], ['from','to','amt'])\n",
    "y = x.na  # returns an object for handling missing values, supports drop, fill, and replace methods\n",
    "x.show()\n",
    "print(y)\n",
    "y.drop().show()\n",
    "\n",
    "y.fill({'from':'unknown','to':'unknown','amt':0}).show()\n",
    "y.fill('--').show()"
   ]
  },
  {
   "cell_type": "code",
   "execution_count": 4,
   "metadata": {},
   "outputs": [
    {
     "name": "stdout",
     "output_type": "stream",
     "text": [
      "+-----+------+--------+\n",
      "| from|    to|     amt|\n",
      "+-----+------+--------+\n",
      "|vinay|deepak|12466641|\n",
      "|sunny|pratik|  451232|\n",
      "|parag| akash| 2555455|\n",
      "+-----+------+--------+\n",
      "\n",
      "+-----+------+--------+\n",
      "| from|    to|     amt|\n",
      "+-----+------+--------+\n",
      "|vinay|deepak|12466641|\n",
      "|parag| akash| 2555455|\n",
      "|sunny|pratik|  451232|\n",
      "+-----+------+--------+\n",
      "\n",
      "+-----+------+--------+\n",
      "| from|    to|     amt|\n",
      "+-----+------+--------+\n",
      "|sunny|pratik|  451232|\n",
      "|parag| akash| 2555455|\n",
      "|vinay|deepak|12466641|\n",
      "+-----+------+--------+\n",
      "\n"
     ]
    }
   ],
   "source": [
    "# orderBy\n",
    "\n",
    "x = sqlContext.createDataFrame([(\"vinay\",\"deepak\",12466641),(\"sunny\",\"pratik\",451232),(\"parag\",\"akash\",2555455)], ['from','to','amt'])\n",
    "\n",
    "y = x.orderBy(['amt'],ascending=[False])\n",
    "z = x.orderBy(['amt'],ascending=[True])\n",
    "x.show()\n",
    "y.show()\n",
    "z.show()\n"
   ]
  },
  {
   "cell_type": "code",
   "execution_count": 5,
   "metadata": {},
   "outputs": [
    {
     "name": "stdout",
     "output_type": "stream",
     "text": [
      "+-----+------+--------+\n",
      "| from|    to|     amt|\n",
      "+-----+------+--------+\n",
      "|vinay|deepak|12466641|\n",
      "|sunny|pratik|  451232|\n",
      "|parag| akash| 2555455|\n",
      "+-----+------+--------+\n",
      "\n",
      "root\n",
      " |-- from: string (nullable = true)\n",
      " |-- to: string (nullable = true)\n",
      " |-- amt: long (nullable = true)\n",
      "\n"
     ]
    }
   ],
   "source": [
    "# PrintSchema\n",
    "\n",
    "x = sqlContext.createDataFrame([(\"vinay\",\"deepak\",12466641),(\"sunny\",\"pratik\",451232),(\"parag\",\"akash\",2555455)], ['from','to','amt'])\n",
    "x.show()\n",
    "x.printSchema()"
   ]
  },
  {
   "cell_type": "code",
   "execution_count": 6,
   "metadata": {},
   "outputs": [
    {
     "name": "stdout",
     "output_type": "stream",
     "text": [
      "+-----+------+--------+\n",
      "| from|    to|     amt|\n",
      "+-----+------+--------+\n",
      "|vinay|deepak|12466641|\n",
      "|sunny|pratik|  451232|\n",
      "|parag| akash| 2555455|\n",
      "+-----+------+--------+\n",
      "\n",
      "+-----+------+-------+\n",
      "| from|    to|    amt|\n",
      "+-----+------+-------+\n",
      "|sunny|pratik| 451232|\n",
      "|parag| akash|2555455|\n",
      "+-----+------+-------+\n",
      "\n",
      "+-----+------+--------+\n",
      "| from|    to|     amt|\n",
      "+-----+------+--------+\n",
      "|vinay|deepak|12466641|\n",
      "+-----+------+--------+\n",
      "\n"
     ]
    }
   ],
   "source": [
    "# randomSplit\n",
    "\n",
    "x = sqlContext.createDataFrame([(\"vinay\",\"deepak\",12466641),(\"sunny\",\"pratik\",451232),(\"parag\",\"akash\",2555455)], ['from','to','amt'])\n",
    "y = x.randomSplit([0.5,0.5])\n",
    "\n",
    "x.show()\n",
    "y[0].show()\n",
    "y[1].show()\n",
    "\n",
    "\n"
   ]
  },
  {
   "cell_type": "code",
   "execution_count": 7,
   "metadata": {},
   "outputs": [
    {
     "name": "stdout",
     "output_type": "stream",
     "text": [
      "+-----+------+--------+\n",
      "| from|    to|     amt|\n",
      "+-----+------+--------+\n",
      "|vinay|deepak|12466641|\n",
      "|sunny|pratik|  451232|\n",
      "|parag| akash| 2555455|\n",
      "+-----+------+--------+\n",
      "\n",
      "[Row(from='vinay', to='deepak', amt=12466641), Row(from='sunny', to='pratik', amt=451232), Row(from='parag', to='akash', amt=2555455)]\n"
     ]
    }
   ],
   "source": [
    "# rdd \n",
    "\n",
    "x = sqlContext.createDataFrame([(\"vinay\",\"deepak\",12466641),(\"sunny\",\"pratik\",451232),(\"parag\",\"akash\",2555455)], ['from','to','amt'])\n",
    "y = x.rdd\n",
    "\n",
    "x.show()\n",
    "print(y.collect())\n"
   ]
  },
  {
   "cell_type": "code",
   "execution_count": 9,
   "metadata": {},
   "outputs": [
    {
     "name": "stdout",
     "output_type": "stream",
     "text": [
      "+-----+------+--------+\n",
      "| from|    to|     amt|\n",
      "+-----+------+--------+\n",
      "|vinay|deepak|12466641|\n",
      "|sunny|pratik|  451232|\n",
      "|parag| akash| 2555455|\n",
      "+-----+------+--------+\n",
      "\n",
      "+-----+------+--------+\n",
      "| from|    to|     amt|\n",
      "+-----+------+--------+\n",
      "|vinay|deepak|12466641|\n",
      "|parag| akash| 2555455|\n",
      "+-----+------+--------+\n",
      "\n"
     ]
    }
   ],
   "source": [
    "# registerTempTable\n",
    "\n",
    "x = sqlContext.createDataFrame([(\"vinay\",\"deepak\",12466641),(\"sunny\",\"pratik\",451232),(\"parag\",\"akash\",2555455)], ['from','to','amt'])\n",
    "x.registerTempTable(name=\"TRANS\")\n",
    "y = sqlContext.sql('SELECT * FROM TRANS WHERE amt > 451232')\n",
    "\n",
    "x.show()\n",
    "y.show()"
   ]
  },
  {
   "cell_type": "code",
   "execution_count": 11,
   "metadata": {},
   "outputs": [
    {
     "name": "stdout",
     "output_type": "stream",
     "text": [
      "4\n",
      "3\n",
      "+-----+------+--------+\n",
      "| from|    to|     amt|\n",
      "+-----+------+--------+\n",
      "|parag| akash| 2555455|\n",
      "|vinay|deepak|12466641|\n",
      "|sunny|pratik|  451232|\n",
      "+-----+------+--------+\n",
      "\n"
     ]
    }
   ],
   "source": [
    "# repartiton \n",
    "\n",
    "x = sqlContext.createDataFrame([(\"vinay\",\"deepak\",12466641),(\"sunny\",\"pratik\",451232),(\"parag\",\"akash\",2555455)], ['from','to','amt'])\n",
    "y = x.repartition(3)\n",
    "\n",
    "print(x.rdd.getNumPartitions())\n",
    "print(y.rdd.getNumPartitions())\n",
    "y.show()"
   ]
  },
  {
   "cell_type": "code",
   "execution_count": 14,
   "metadata": {},
   "outputs": [
    {
     "name": "stdout",
     "output_type": "stream",
     "text": [
      "+-----+------+--------+\n",
      "| from|    to|     amt|\n",
      "+-----+------+--------+\n",
      "|vinay|deepak|12466641|\n",
      "|sunny|pratik|  451232|\n",
      "|parag| akash| 2555455|\n",
      "+-----+------+--------+\n",
      "\n",
      "+-----+------+--------+\n",
      "| from|    to|     amt|\n",
      "+-----+------+--------+\n",
      "|sunny|deepak|12466641|\n",
      "|sunny|pratik|  451232|\n",
      "|parag| akash| 2555455|\n",
      "+-----+------+--------+\n",
      "\n"
     ]
    }
   ],
   "source": [
    "# replace\n",
    "\n",
    "x = sqlContext.createDataFrame([(\"vinay\",\"deepak\",12466641),(\"sunny\",\"pratik\",451232),(\"parag\",\"akash\",2555455)], ['from','to','amt'])\n",
    "y = x.replace('vinay','sunny',['from','to'])\n",
    "\n",
    "x.show()\n",
    "y.show()\n",
    "\n"
   ]
  },
  {
   "cell_type": "code",
   "execution_count": 16,
   "metadata": {},
   "outputs": [
    {
     "name": "stdout",
     "output_type": "stream",
     "text": [
      "+------+------+---+\n",
      "|  from|    to|amt|\n",
      "+------+------+---+\n",
      "| Sunny|chirag|0.1|\n",
      "|deepak| vinay|0.2|\n",
      "| Carol|  Dave|0.3|\n",
      "+------+------+---+\n",
      "\n",
      "+------+------+---+\n",
      "|  from|    to|amt|\n",
      "+------+------+---+\n",
      "|Pranav|chirag|0.1|\n",
      "|deepak| vinay|0.2|\n",
      "| Carol|  Dave|0.3|\n",
      "+------+------+---+\n",
      "\n"
     ]
    }
   ],
   "source": [
    "# replace\n",
    "\n",
    "x = sqlContext.createDataFrame([('Sunny',\"chirag\",0.1),(\"deepak\",\"vinay\",0.2),(\"Carol\",\"Dave\",0.3)], ['from','to','amt'])\n",
    "y = x.replace('Sunny','Pranav',['from','to'])\n",
    "\n",
    "x.show()\n",
    "y.show()\n"
   ]
  },
  {
   "cell_type": "code",
   "execution_count": 18,
   "metadata": {},
   "outputs": [
    {
     "name": "stdout",
     "output_type": "stream",
     "text": [
      "+-----+------+---------+\n",
      "| from|    to|      amt|\n",
      "+-----+------+---------+\n",
      "|vinay|deepak|1246.6641|\n",
      "|sunny|pratik|  4512.32|\n",
      "|parag| akash| 2555.455|\n",
      "+-----+------+---------+\n",
      "\n",
      "<pyspark.sql.group.GroupedData object at 0x000002C3E1627A58>\n",
      "+-----+------+---------+\n",
      "| from|    to| sum(amt)|\n",
      "+-----+------+---------+\n",
      "| null|  null|8314.4391|\n",
      "|vinay|deepak|1246.6641|\n",
      "|vinay|  null|1246.6641|\n",
      "|parag| akash| 2555.455|\n",
      "|parag|  null| 2555.455|\n",
      "|sunny|  null|  4512.32|\n",
      "|sunny|pratik|  4512.32|\n",
      "+-----+------+---------+\n",
      "\n",
      "+-----+------+---------+\n",
      "| from|    to| max(amt)|\n",
      "+-----+------+---------+\n",
      "| null|  null|  4512.32|\n",
      "|vinay|deepak|1246.6641|\n",
      "|vinay|  null|1246.6641|\n",
      "|parag| akash| 2555.455|\n",
      "|parag|  null| 2555.455|\n",
      "|sunny|  null|  4512.32|\n",
      "|sunny|pratik|  4512.32|\n",
      "+-----+------+---------+\n",
      "\n",
      "+-----+------+---------+\n",
      "| from|    to| min(amt)|\n",
      "+-----+------+---------+\n",
      "| null|  null|1246.6641|\n",
      "|vinay|deepak|1246.6641|\n",
      "|vinay|  null|1246.6641|\n",
      "|parag| akash| 2555.455|\n",
      "|parag|  null| 2555.455|\n",
      "|sunny|  null|  4512.32|\n",
      "|sunny|pratik|  4512.32|\n",
      "+-----+------+---------+\n",
      "\n"
     ]
    }
   ],
   "source": [
    "#rollup\n",
    "\n",
    "x = sqlContext.createDataFrame([(\"vinay\",\"deepak\",1246.6641),(\"sunny\",\"pratik\",4512.32),(\"parag\",\"akash\",2555.455)], ['from','to','amt'])\n",
    "y = x.rollup(['from','to'])\n",
    "x.show()\n",
    "\n",
    "print(y)\n",
    "#y is a grouped data object \n",
    "#aggregations will be applied to all numerical columns\n",
    "\n",
    "y.sum().show()\n",
    "y.max().show()\n",
    "y.min().show()"
   ]
  },
  {
   "cell_type": "code",
   "execution_count": 19,
   "metadata": {},
   "outputs": [
    {
     "name": "stdout",
     "output_type": "stream",
     "text": [
      "+-----+------+---------+\n",
      "| from|    to|      amt|\n",
      "+-----+------+---------+\n",
      "|vinay|deepak|1246.6641|\n",
      "|sunny|pratik|  4512.32|\n",
      "|parag| akash| 2555.455|\n",
      "+-----+------+---------+\n",
      "\n",
      "+-----+------+--------+\n",
      "| from|    to|     amt|\n",
      "+-----+------+--------+\n",
      "|sunny|pratik| 4512.32|\n",
      "|parag| akash|2555.455|\n",
      "+-----+------+--------+\n",
      "\n"
     ]
    }
   ],
   "source": [
    "# sample:-\n",
    "# Returns a stratified sample without replacement based \n",
    "# on the fraction given on each stratum.\n",
    "\n",
    "x = sqlContext.createDataFrame([(\"vinay\",\"deepak\",1246.6641),(\"sunny\",\"pratik\",4512.32),(\"parag\",\"akash\",2555.455)], ['from','to','amt'])\n",
    "y = x.sample(False,0.5)\n",
    "\n",
    "x.show()\n",
    "y.show()\n"
   ]
  },
  {
   "cell_type": "code",
   "execution_count": 23,
   "metadata": {},
   "outputs": [
    {
     "name": "stdout",
     "output_type": "stream",
     "text": [
      "+-----+------+---------+\n",
      "| from|    to|      amt|\n",
      "+-----+------+---------+\n",
      "|vinay|deepak|1246.6641|\n",
      "|sunny|pratik|  4512.32|\n",
      "|parag| akash| 2555.455|\n",
      "+-----+------+---------+\n",
      "\n",
      "StructType(List(StructField(from,StringType,true),StructField(to,StringType,true),StructField(amt,DoubleType,true)))\n"
     ]
    }
   ],
   "source": [
    "#schema \n",
    "x = sqlContext.createDataFrame([(\"vinay\",\"deepak\",1246.6641),(\"sunny\",\"pratik\",4512.32),(\"parag\",\"akash\",2555.455)], ['from','to','amt'])\n",
    "y = x.schema\n",
    "x.show()\n",
    "print(y)"
   ]
  },
  {
   "cell_type": "code",
   "execution_count": 26,
   "metadata": {},
   "outputs": [
    {
     "name": "stdout",
     "output_type": "stream",
     "text": [
      "+-----+------+---------+\n",
      "| from|    to|      amt|\n",
      "+-----+------+---------+\n",
      "|vinay|deepak|1246.6641|\n",
      "|sunny|pratik|  4512.32|\n",
      "|parag| akash| 2555.455|\n",
      "+-----+------+---------+\n",
      "\n",
      "+---------------------+------------+\n",
      "|substring(from, 1, 1)|(amt + 1000)|\n",
      "+---------------------+------------+\n",
      "|                    v|   2246.6641|\n",
      "|                    s|     5512.32|\n",
      "|                    p|    3555.455|\n",
      "+---------------------+------------+\n",
      "\n"
     ]
    }
   ],
   "source": [
    "# SlectExpr\n",
    "x = sqlContext.createDataFrame([(\"vinay\",\"deepak\",1246.6641),(\"sunny\",\"pratik\",4512.32),(\"parag\",\"akash\",2555.455)], ['from','to','amt'])\n",
    "y = x.selectExpr(['substr(from,1,1)','amt+1000'])\n",
    "\n",
    "x.show()\n",
    "y.show()"
   ]
  },
  {
   "cell_type": "code",
   "execution_count": 27,
   "metadata": {},
   "outputs": [
    {
     "name": "stdout",
     "output_type": "stream",
     "text": [
      "+-----+------+---------+\n",
      "| from|    to|      amt|\n",
      "+-----+------+---------+\n",
      "|vinay|deepak|1246.6641|\n",
      "|sunny|pratik|  4512.32|\n",
      "|parag| akash| 2555.455|\n",
      "+-----+------+---------+\n",
      "\n"
     ]
    }
   ],
   "source": [
    "# show\n",
    "\n",
    "x = sqlContext.createDataFrame([(\"vinay\",\"deepak\",1246.6641),(\"sunny\",\"pratik\",4512.32),(\"parag\",\"akash\",2555.455)], ['from','to','amt'])\n",
    "x.show()"
   ]
  },
  {
   "cell_type": "code",
   "execution_count": 29,
   "metadata": {},
   "outputs": [
    {
     "name": "stdout",
     "output_type": "stream",
     "text": [
      "+-----+------+---------+\n",
      "| from|    to|      amt|\n",
      "+-----+------+---------+\n",
      "|vinay|deepak|1246.6641|\n",
      "|sunny|pratik|  4512.32|\n",
      "|parag| akash| 2555.455|\n",
      "+-----+------+---------+\n",
      "\n",
      "+-----+------+---------+\n",
      "| from|    to|      amt|\n",
      "+-----+------+---------+\n",
      "|vinay|deepak|1246.6641|\n",
      "|parag| akash| 2555.455|\n",
      "|sunny|pratik|  4512.32|\n",
      "+-----+------+---------+\n",
      "\n"
     ]
    }
   ],
   "source": [
    "# sort\n",
    "\n",
    "x = sqlContext.createDataFrame([(\"vinay\",\"deepak\",1246.6641),(\"sunny\",\"pratik\",4512.32),(\"parag\",\"akash\",2555.455)], ['from','to','amt'])\n",
    "y = x.sort(['amt'])\n",
    "\n",
    "x.show()\n",
    "y.show()"
   ]
  },
  {
   "cell_type": "code",
   "execution_count": 2,
   "metadata": {},
   "outputs": [
    {
     "name": "stdout",
     "output_type": "stream",
     "text": [
      "+------+-----+---+----+\n",
      "|  from|   to|amt|p_id|\n",
      "+------+-----+---+----+\n",
      "| Bobby|sunny|0.2|   2|\n",
      "|deepak|parag|0.3|   2|\n",
      "| vinay|Bobby|0.1|   1|\n",
      "+------+-----+---+----+\n",
      "\n",
      "+------+-----+---+----+\n",
      "|  from|   to|amt|p_id|\n",
      "+------+-----+---+----+\n",
      "|deepak|parag|0.3|   2|\n",
      "| Bobby|sunny|0.2|   2|\n",
      "| vinay|Bobby|0.1|   1|\n",
      "+------+-----+---+----+\n",
      "\n",
      "[[Row(from='Bobby', to='sunny', amt=0.2, p_id=2), Row(from='deepak', to='parag', amt=0.3, p_id=2)], [Row(from='vinay', to='Bobby', amt=0.1, p_id=1)]]\n",
      "\n",
      "\n",
      "[[Row(from='deepak', to='parag', amt=0.3, p_id=2), Row(from='Bobby', to='sunny', amt=0.2, p_id=2)], [Row(from='vinay', to='Bobby', amt=0.1, p_id=1)]]\n"
     ]
    }
   ],
   "source": [
    "# sortWithinPartitions\n",
    "x = sqlContext.createDataFrame([('vinay',\"Bobby\",0.1,1),(\"Bobby\",\"sunny\",0.2,2),(\"deepak\",\"parag\",0.3,2)], \\\n",
    "                               ['from','to','amt','p_id']).repartition(2,'p_id')\n",
    "y = x.sortWithinPartitions(['to'])\n",
    "x.show()\n",
    "y.show()\n",
    "print(x.rdd.glom().collect()) # glom() flattens elements on the same partition\n",
    "print(\"\\n\")\n",
    "print(y.rdd.glom().collect())"
   ]
  },
  {
   "cell_type": "code",
   "execution_count": 7,
   "metadata": {},
   "outputs": [
    {
     "name": "stdout",
     "output_type": "stream",
     "text": [
      "+-----+------+---+-----+\n",
      "| from|    to|amt| fees|\n",
      "+-----+------+---+-----+\n",
      "|vinay| Bobby|0.1|0.001|\n",
      "|Bobby| sunny|0.2| 0.02|\n",
      "|sunny|pranav|0.3| 0.02|\n",
      "+-----+------+---+-----+\n",
      "\n",
      "<pyspark.sql.dataframe.DataFrameStatFunctions object at 0x00000241596F37F0>\n",
      "0.8660254037844386\n"
     ]
    }
   ],
   "source": [
    "# Stat :-Returns a \n",
    "# DataFrameStatFunctions for statistic functions.\n",
    "\n",
    "x = sqlContext.createDataFrame([(\"vinay\",\"Bobby\",0.1,0.001),(\"Bobby\",\"sunny\",0.2,0.02),(\"sunny\",\"pranav\",0.3,0.02)], ['from','to','amt','fees'])\n",
    "y = x.stat\n",
    "x.show()\n",
    "print(y)\n",
    "print(y.corr(col1=\"amt\",col2=\"fees\"))\n"
   ]
  },
  {
   "cell_type": "code",
   "execution_count": 8,
   "metadata": {},
   "outputs": [
    {
     "name": "stdout",
     "output_type": "stream",
     "text": [
      "+-----+------+---+-----+\n",
      "| from|    to|amt| fees|\n",
      "+-----+------+---+-----+\n",
      "|vinay| Bobby|0.1|0.001|\n",
      "|Bobby| sunny|0.2| 0.02|\n",
      "|sunny|pranav|0.3| 0.02|\n",
      "+-----+------+---+-----+\n",
      "\n",
      "+-----+------+---+-----+\n",
      "| from|    to|amt| fees|\n",
      "+-----+------+---+-----+\n",
      "|vinay| Bobby|0.1|0.001|\n",
      "|Bobby| sunny|0.2| 0.02|\n",
      "|sunny|pranav|0.3| 0.01|\n",
      "+-----+------+---+-----+\n",
      "\n",
      "+-----+------+---+----+\n",
      "| from|    to|amt|fees|\n",
      "+-----+------+---+----+\n",
      "|sunny|pranav|0.3|0.02|\n",
      "+-----+------+---+----+\n",
      "\n"
     ]
    }
   ],
   "source": [
    "# subtract\n",
    "\n",
    "x = sqlContext.createDataFrame([(\"vinay\",\"Bobby\",0.1,0.001),(\"Bobby\",\"sunny\",0.2,0.02),(\"sunny\",\"pranav\",0.3,0.02)], ['from','to','amt','fees'])\n",
    "y = sqlContext.createDataFrame([(\"vinay\",\"Bobby\",0.1,0.001),(\"Bobby\",\"sunny\",0.2,0.02),(\"sunny\",\"pranav\",0.3,0.01)], ['from','to','amt','fees'])\n",
    "\n",
    "z = x.subtract(y)\n",
    "x.show()\n",
    "y.show()\n",
    "z.show()"
   ]
  },
  {
   "cell_type": "code",
   "execution_count": 9,
   "metadata": {},
   "outputs": [
    {
     "name": "stdout",
     "output_type": "stream",
     "text": [
      "+-----+------+---+-----+\n",
      "| from|    to|amt| fees|\n",
      "+-----+------+---+-----+\n",
      "|vinay| Bobby|0.1|0.001|\n",
      "|Bobby| sunny|0.2| 0.02|\n",
      "|sunny|pranav|0.3| 0.02|\n",
      "+-----+------+---+-----+\n",
      "\n",
      "[Row(from='vinay', to='Bobby', amt=0.1, fees=0.001), Row(from='Bobby', to='sunny', amt=0.2, fees=0.02)]\n"
     ]
    }
   ],
   "source": [
    "x = sqlContext.createDataFrame([(\"vinay\",\"Bobby\",0.1,0.001),(\"Bobby\",\"sunny\",0.2,0.02),(\"sunny\",\"pranav\",0.3,0.02)], ['from','to','amt','fees'])\n",
    "\n",
    "y = x.take(num=2)\n",
    "x.show()\n",
    "print(y)"
   ]
  },
  {
   "cell_type": "markdown",
   "metadata": {},
   "source": [
    "# Conversions "
   ]
  },
  {
   "cell_type": "code",
   "execution_count": 11,
   "metadata": {},
   "outputs": [
    {
     "name": "stdout",
     "output_type": "stream",
     "text": [
      "+-----+-----+---+\n",
      "| from|   to|amt|\n",
      "+-----+-----+---+\n",
      "|Alice|  Bob|0.1|\n",
      "|  Bob|Carol|0.2|\n",
      "|Carol| Dave|0.3|\n",
      "+-----+-----+---+\n",
      "\n",
      "+------+-----+---+\n",
      "|seller|buyer|amt|\n",
      "+------+-----+---+\n",
      "| Alice|  Bob|0.1|\n",
      "|   Bob|Carol|0.2|\n",
      "| Carol| Dave|0.3|\n",
      "+------+-----+---+\n",
      "\n"
     ]
    }
   ],
   "source": [
    "#toDF\n",
    "\n",
    "x = sqlContext.createDataFrame([('Alice',\"Bob\",0.1),(\"Bob\",\"Carol\",0.2),(\"Carol\",\"Dave\",0.3)], ['from','to','amt'])\n",
    "y = x.toDF(\"seller\",\"buyer\",\"amt\")\n",
    "x.show()\n",
    "y.show()"
   ]
  },
  {
   "cell_type": "code",
   "execution_count": 13,
   "metadata": {},
   "outputs": [
    {
     "name": "stdout",
     "output_type": "stream",
     "text": [
      "+-----+-----+---+\n",
      "| from|   to|amt|\n",
      "+-----+-----+---+\n",
      "|Alice|  Bob|0.1|\n",
      "|  Bob|Carol|0.2|\n",
      "|Carol|Alice|0.3|\n",
      "+-----+-----+---+\n",
      "\n",
      "MapPartitionsRDD[193] at toJavaRDD at NativeMethodAccessorImpl.java:0\n",
      "\n",
      "\n",
      "['{\"from\":\"Alice\",\"to\":\"Bob\",\"amt\":0.1}', '{\"from\":\"Bob\",\"to\":\"Carol\",\"amt\":0.2}', '{\"from\":\"Carol\",\"to\":\"Alice\",\"amt\":0.3}']\n"
     ]
    }
   ],
   "source": [
    "# toJson\n",
    "x = sqlContext.createDataFrame([('Alice',\"Bob\",0.1),(\"Bob\",\"Carol\",0.2),(\"Carol\",\"Alice\",0.3)], ['from','to','amt'])\n",
    "y = x.toJSON()\n",
    "\n",
    "x.show()\n",
    "print(y)\n",
    "print(\"\\n\")\n",
    "print(y.collect())\n"
   ]
  },
  {
   "cell_type": "code",
   "execution_count": 14,
   "metadata": {},
   "outputs": [
    {
     "name": "stdout",
     "output_type": "stream",
     "text": [
      "+-----+-----+---+\n",
      "| from|   to|amt|\n",
      "+-----+-----+---+\n",
      "|Alice|  Bob|0.1|\n",
      "|  Bob|Carol|0.2|\n",
      "|Carol|Alice|0.3|\n",
      "+-----+-----+---+\n",
      "\n",
      "<class 'method'>\n"
     ]
    },
    {
     "data": {
      "text/plain": [
       "<bound method DataFrame.toPandas of DataFrame[from: string, to: string, amt: double]>"
      ]
     },
     "execution_count": 14,
     "metadata": {},
     "output_type": "execute_result"
    }
   ],
   "source": [
    "# toPandas\n",
    "\n",
    "x = sqlContext.createDataFrame([('Alice',\"Bob\",0.1),(\"Bob\",\"Carol\",0.2),(\"Carol\",\"Alice\",0.3)], ['from','to','amt'])\n",
    "y = x.toPandas\n",
    "x.show()\n",
    "print(type(y))\n",
    "y"
   ]
  },
  {
   "cell_type": "code",
   "execution_count": 15,
   "metadata": {},
   "outputs": [
    {
     "name": "stdout",
     "output_type": "stream",
     "text": [
      "+-----+-----+---+\n",
      "| from|   to|amt|\n",
      "+-----+-----+---+\n",
      "|Alice|  Bob|0.1|\n",
      "|  Bob|Carol|0.2|\n",
      "|Carol|Alice|0.3|\n",
      "+-----+-----+---+\n",
      "\n",
      "+------+-----+---+\n",
      "|  from|   to|amt|\n",
      "+------+-----+---+\n",
      "| sunny|  Bob|0.1|\n",
      "| vinay|Carol|0.2|\n",
      "|pranav|Alice|0.3|\n",
      "+------+-----+---+\n",
      "\n",
      "+------+-----+---+\n",
      "|  from|   to|amt|\n",
      "+------+-----+---+\n",
      "| Alice|  Bob|0.1|\n",
      "|   Bob|Carol|0.2|\n",
      "| Carol|Alice|0.3|\n",
      "| sunny|  Bob|0.1|\n",
      "| vinay|Carol|0.2|\n",
      "|pranav|Alice|0.3|\n",
      "+------+-----+---+\n",
      "\n"
     ]
    }
   ],
   "source": [
    "# unionAll\n",
    "\n",
    "x = sqlContext.createDataFrame([('Alice',\"Bob\",0.1),(\"Bob\",\"Carol\",0.2),(\"Carol\",\"Alice\",0.3)], ['from','to','amt'])\n",
    "y = sqlContext.createDataFrame([('sunny',\"Bob\",0.1),(\"vinay\",\"Carol\",0.2),(\"pranav\",\"Alice\",0.3)], ['from','to','amt'])\n",
    "\n",
    "z = x.unionAll(y)\n",
    "\n",
    "x.show()\n",
    "y.show()\n",
    "z.show()\n"
   ]
  },
  {
   "cell_type": "code",
   "execution_count": 16,
   "metadata": {},
   "outputs": [
    {
     "name": "stdout",
     "output_type": "stream",
     "text": [
      "+-----+-----+---+\n",
      "| from|   to|amt|\n",
      "+-----+-----+---+\n",
      "|Alice|  Bob|0.1|\n",
      "|  Bob|Carol|0.2|\n",
      "|Carol|Alice|0.3|\n",
      "+-----+-----+---+\n",
      "\n",
      "True\n",
      "False\n"
     ]
    }
   ],
   "source": [
    "# unpersist\n",
    "\n",
    "x = sqlContext.createDataFrame([('Alice',\"Bob\",0.1),(\"Bob\",\"Carol\",0.2),(\"Carol\",\"Alice\",0.3)], ['from','to','amt'])\n",
    "x.cache()\n",
    "x.count()\n",
    "x.show()\n",
    "\n",
    "print(x.is_cached)\n",
    "x.unpersist()\n",
    "print(x.is_cached)"
   ]
  },
  {
   "cell_type": "code",
   "execution_count": 17,
   "metadata": {},
   "outputs": [
    {
     "name": "stdout",
     "output_type": "stream",
     "text": [
      "+-----+-----+---+\n",
      "| from|   to|amt|\n",
      "+-----+-----+---+\n",
      "|Alice|  Bob|0.1|\n",
      "|  Bob|Carol|0.2|\n",
      "|Carol|Alice|0.3|\n",
      "+-----+-----+---+\n",
      "\n",
      "+-----+-----+---+\n",
      "| from|   to|amt|\n",
      "+-----+-----+---+\n",
      "|Carol|Alice|0.3|\n",
      "+-----+-----+---+\n",
      "\n"
     ]
    }
   ],
   "source": [
    "# where \n",
    "x = sqlContext.createDataFrame([('Alice',\"Bob\",0.1),(\"Bob\",\"Carol\",0.2),(\"Carol\",\"Alice\",0.3)], ['from','to','amt'])\n",
    "y = x.where(\"amt > 0.2\")\n",
    "\n",
    "x.show()\n",
    "y.show()"
   ]
  },
  {
   "cell_type": "code",
   "execution_count": 18,
   "metadata": {},
   "outputs": [
    {
     "name": "stdout",
     "output_type": "stream",
     "text": [
      "+-----+-----+---+\n",
      "| from|   to|amt|\n",
      "+-----+-----+---+\n",
      "|Alice|  Bob|0.1|\n",
      "|  Bob|Carol|0.2|\n",
      "|Carol|Alice|0.3|\n",
      "+-----+-----+---+\n",
      "\n",
      "+-----+-----+---+----+\n",
      "| from|   to|amt|conf|\n",
      "+-----+-----+---+----+\n",
      "|Alice|  Bob|0.1|true|\n",
      "|  Bob|Carol|0.2|true|\n",
      "|Carol|Alice|0.3|true|\n",
      "+-----+-----+---+----+\n",
      "\n"
     ]
    }
   ],
   "source": [
    "# withColumn\n",
    "\n",
    "x = sqlContext.createDataFrame([('Alice',\"Bob\",0.1),(\"Bob\",\"Carol\",0.2),(\"Carol\",\"Alice\",0.3)], ['from','to','amt'])\n",
    "y = x.withColumn('conf',x.amt.isNotNull())\n",
    "\n",
    "x.show()\n",
    "y.show()"
   ]
  },
  {
   "cell_type": "code",
   "execution_count": 19,
   "metadata": {},
   "outputs": [
    {
     "name": "stdout",
     "output_type": "stream",
     "text": [
      "+-----+-----+---+\n",
      "| from|   to|amt|\n",
      "+-----+-----+---+\n",
      "|Alice|  Bob|0.1|\n",
      "|  Bob|Carol|0.2|\n",
      "|Carol| Dave|0.3|\n",
      "+-----+-----+---+\n",
      "\n",
      "+-----+-----+------+\n",
      "| from|   to|amount|\n",
      "+-----+-----+------+\n",
      "|Alice|  Bob|   0.1|\n",
      "|  Bob|Carol|   0.2|\n",
      "|Carol| Dave|   0.3|\n",
      "+-----+-----+------+\n",
      "\n"
     ]
    }
   ],
   "source": [
    "# withColumnRenamed\n",
    "x = sqlContext.createDataFrame([('Alice',\"Bob\",0.1),(\"Bob\",\"Carol\",0.2),(\"Carol\",\"Dave\",0.3)], ['from','to','amt'])\n",
    "y = x.withColumnRenamed('amt','amount')\n",
    "x.show()\n",
    "y.show()"
   ]
  },
  {
   "cell_type": "code",
   "execution_count": 22,
   "metadata": {},
   "outputs": [
    {
     "name": "stdout",
     "output_type": "stream",
     "text": [
      "+-----+-----+---+\n",
      "| from|   to|amt|\n",
      "+-----+-----+---+\n",
      "|Alice|  Bob|0.1|\n",
      "|  Bob|Carol|0.2|\n",
      "|Carol| Dave|0.3|\n",
      "+-----+-----+---+\n",
      "\n",
      "+---+-----+-----+\n",
      "|amt| from|   to|\n",
      "+---+-----+-----+\n",
      "|0.3|Carol| Dave|\n",
      "|0.1|Alice|  Bob|\n",
      "|0.2|  Bob|Carol|\n",
      "+---+-----+-----+\n",
      "\n"
     ]
    }
   ],
   "source": [
    "# write\n",
    "import json\n",
    "x = sqlContext.createDataFrame([('Alice',\"Bob\",0.1),(\"Bob\",\"Carol\",0.2),(\"Carol\",\"Dave\",0.3)], ['from','to','amt'])\n",
    "y = x.write.mode('overwrite').json('./dataframeWriteExample.json')\n",
    "x.show()\n",
    "\n",
    "\n",
    "# Read the DF back in from file\n",
    "sqlContext.read.json('./dataframeWriteExample.json').show()"
   ]
  },
  {
   "cell_type": "code",
   "execution_count": null,
   "metadata": {},
   "outputs": [],
   "source": []
  }
 ],
 "metadata": {
  "kernelspec": {
   "display_name": "Python 3",
   "language": "python",
   "name": "python3"
  },
  "language_info": {
   "codemirror_mode": {
    "name": "ipython",
    "version": 3
   },
   "file_extension": ".py",
   "mimetype": "text/x-python",
   "name": "python",
   "nbconvert_exporter": "python",
   "pygments_lexer": "ipython3",
   "version": "3.6.5"
  }
 },
 "nbformat": 4,
 "nbformat_minor": 2
}
