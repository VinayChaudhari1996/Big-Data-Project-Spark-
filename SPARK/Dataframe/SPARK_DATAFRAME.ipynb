{
 "cells": [
  {
   "cell_type": "code",
   "execution_count": 8,
   "metadata": {},
   "outputs": [],
   "source": [
    "from pyspark.sql import SparkSession "
   ]
  },
  {
   "cell_type": "code",
   "execution_count": 9,
   "metadata": {},
   "outputs": [],
   "source": [
    "spark = SparkSession \\\n",
    "    .builder \\\n",
    "    .appName(\"spark dataframe in python\") \\\n",
    "    .config(\"spark.some.config.option\", \"some-value\") \\\n",
    "    .getOrCreate()"
   ]
  },
  {
   "cell_type": "code",
   "execution_count": 10,
   "metadata": {},
   "outputs": [],
   "source": [
    "df = spark.read.csv(\"Emp.csv\")"
   ]
  },
  {
   "cell_type": "code",
   "execution_count": 11,
   "metadata": {},
   "outputs": [
    {
     "name": "stdout",
     "output_type": "stream",
     "text": [
      "+--------------------+--------------------+----------------+---------+--------------------+\n",
      "|                 _c0|                 _c1|             _c2|      _c3|                 _c4|\n",
      "+--------------------+--------------------+----------------+---------+--------------------+\n",
      "|                NAME|           JOB TITLE|      DEPARTMENT|  EMP_SAL|ESTIMATED ANNUAL SAL|\n",
      "|     AARON,  ELVIA J|    WATER RATE TAKER|     WATER MGMNT|$81000.00|           $73862.00|\n",
      "|   AARON,  JEFFERY M|      POLICE OFFICER|          POLICE|$74628.00|           $74628.00|\n",
      "| AARON,  KIMBERLEI R|CHIEF CONTRACT EX...| FLEET MANAGEMNT|$77280.00|           $70174.00|\n",
      "| ABAD JR,  VICENTE M|   CIVIL ENGINEER IV|     WATER MGMNT|$96276.00|           $96276.00|\n",
      "|ABBATACOLA,  ROBE...| ELECTRICAL MECHANIC|     WATER MGMNT|$84032.00|           $76627.00|\n",
      "|    ABBATE,  TERRY M|      POLICE OFFICER|          POLICE|$79926.00|           $79926.00|\n",
      "|ABBATEMARCO,  JAM...|         FIREFIGHTER|            FIRE|$77238.00|           $77238.00|\n",
      "|    ABBOTT,  BETTY L|  FOSTER GRANDPARENT|FAMILY & SUPPORT| $2756.00|            $2756.00|\n",
      "|   ABBOTT,  LYNISE M|           CLERK III|FAMILY & SUPPORT|$38568.00|           $38568.00|\n",
      "|      ABBOTT,  SAM J| ELECTRICAL MECHANIC|      TRANSPORTN|$84032.00|           $76627.00|\n",
      "|ABDELHADI,  ABDAL...|      POLICE OFFICER|          POLICE|$71040.00|           $71040.00|\n",
      "| ABDELLATIF,  AREF R|FIREFIGHTER (PER ...|            FIRE|$86922.00|           $86922.00|\n",
      "|  ABDELMAJEID,  AZIZ|      POLICE OFFICER|          POLICE|$67704.00|           $67704.00|\n",
      "| ABDOLLAHZADEH,  ALI|           PARAMEDIC|            FIRE|$64374.00|           $64374.00|\n",
      "|ABDUL-KARIM,  MUH...|ENGINEERING TECHN...|     WATER MGMNT|$81000.00|           $81000.00|\n",
      "|    ABDULLAH,  KEVIN|         FIREFIGHTER|            FIRE|$83148.00|           $83148.00|\n",
      "|ABDULLAH,  LAKENYA N|      CROSSING GUARD|          POLICE|$15319.00|           $15319.00|\n",
      "| ABDULLAH,  MOULAY R|      POLICE OFFICER|          POLICE|$82878.00|           $82878.00|\n",
      "| ABDULLAH,  RASHAD J|ELECTRICAL MECHAN...| FLEET MANAGEMNT|$84032.00|           $76627.00|\n",
      "+--------------------+--------------------+----------------+---------+--------------------+\n",
      "only showing top 20 rows\n",
      "\n"
     ]
    }
   ],
   "source": [
    "df.show()"
   ]
  },
  {
   "cell_type": "code",
   "execution_count": 29,
   "metadata": {},
   "outputs": [
    {
     "name": "stdout",
     "output_type": "stream",
     "text": [
      "root\n",
      " |-- _c0: string (nullable = true)\n",
      " |-- _c1: string (nullable = true)\n",
      " |-- _c2: string (nullable = true)\n",
      " |-- _c3: string (nullable = true)\n",
      " |-- _c4: string (nullable = true)\n",
      "\n"
     ]
    }
   ],
   "source": [
    "df.printSchema()"
   ]
  },
  {
   "cell_type": "code",
   "execution_count": 33,
   "metadata": {},
   "outputs": [
    {
     "name": "stdout",
     "output_type": "stream",
     "text": [
      "+--------------------+\n",
      "|                 _C0|\n",
      "+--------------------+\n",
      "|                NAME|\n",
      "|     AARON,  ELVIA J|\n",
      "|   AARON,  JEFFERY M|\n",
      "| AARON,  KIMBERLEI R|\n",
      "| ABAD JR,  VICENTE M|\n",
      "|ABBATACOLA,  ROBE...|\n",
      "|    ABBATE,  TERRY M|\n",
      "|ABBATEMARCO,  JAM...|\n",
      "|    ABBOTT,  BETTY L|\n",
      "|   ABBOTT,  LYNISE M|\n",
      "|      ABBOTT,  SAM J|\n",
      "|ABDELHADI,  ABDAL...|\n",
      "| ABDELLATIF,  AREF R|\n",
      "|  ABDELMAJEID,  AZIZ|\n",
      "| ABDOLLAHZADEH,  ALI|\n",
      "|ABDUL-KARIM,  MUH...|\n",
      "|    ABDULLAH,  KEVIN|\n",
      "|ABDULLAH,  LAKENYA N|\n",
      "| ABDULLAH,  MOULAY R|\n",
      "| ABDULLAH,  RASHAD J|\n",
      "+--------------------+\n",
      "only showing top 20 rows\n",
      "\n"
     ]
    }
   ],
   "source": [
    "df.select(\"_C0\").show()"
   ]
  },
  {
   "cell_type": "code",
   "execution_count": 34,
   "metadata": {},
   "outputs": [
    {
     "data": {
      "text/plain": [
       "['_c0', '_c1', '_c2', '_c3', '_c4']"
      ]
     },
     "execution_count": 34,
     "metadata": {},
     "output_type": "execute_result"
    }
   ],
   "source": [
    "df.columns\n",
    "# Returns list of column names or headers."
   ]
  },
  {
   "cell_type": "code",
   "execution_count": 35,
   "metadata": {},
   "outputs": [
    {
     "data": {
      "text/plain": [
       "<bound method DataFrame.collect of DataFrame[_c0: string, _c1: string, _c2: string, _c3: string, _c4: string]>"
      ]
     },
     "execution_count": 35,
     "metadata": {},
     "output_type": "execute_result"
    }
   ],
   "source": [
    "df.collect"
   ]
  },
  {
   "cell_type": "code",
   "execution_count": 38,
   "metadata": {},
   "outputs": [
    {
     "data": {
      "text/plain": [
       "DataFrame[_c0: string, _c1: string, _c2: string, _c3: string, _c4: string]"
      ]
     },
     "execution_count": 38,
     "metadata": {},
     "output_type": "execute_result"
    }
   ],
   "source": [
    "df.cache()\n"
   ]
  },
  {
   "cell_type": "code",
   "execution_count": 16,
   "metadata": {},
   "outputs": [
    {
     "data": {
      "text/plain": [
       "[Row(_c3_freqItems=['$78354.00', '$73932.00', '$79926.00', '$60708.00', '$18886.00', '$42432.00', '$95694.00', '$70408.00', '$89773.00', '$91520.00', '$87048.00', '$88140.00', '$80916.00', '$66960.00', '$71040.00', '$81096.00', '$73216.00', '$67296.00', '$71082.00', '$92268.00', '$73752.00', '$18439.00', '$56208.00', '$86508.00', '$82638.00', '$83148.00', '$101958.00', '$58548.00', '$44280.00', '$98766.00', '$92778.00', '$110352.00', '$77772.00', '$53340.00', '$102204.00', '$77238.00', '$49992.00', '$58860.00', '$55872.00', '$16047.00', '$89646.00', '$15319.00', '$84032.00', '$74628.00', '$85278.00', '$67596.00', '$83562.00', '$83028.00', '$100048.00', '$63586.00', '$2756.00', '$82878.00', '$61308.00', '$50952.00', '$65894.00', '$64374.00', '$93933.00'], _c4_freqItems=['$78354.00', '$73932.00', '$79926.00', '$48108.00', '$18886.00', '$42432.00', '$95694.00', '$70408.00', '$56379.00', '$73848.00', '$88140.00', '$51388.00', '$66960.00', '$71040.00', '$81096.00', '$67296.00', '$71082.00', '$92268.00', '$57675.00', '$40368.00', '$55358.00', '$64805.00', '$134976.00', '$33053.00', '$18439.00', '$107064.00', '$86508.00', '$60792.00', '$83148.00', '$101958.00', '$58548.00', '$44280.00', '$57022.00', '$96276.00', '$98766.00', '$92778.00', '$79377.00', '$46428.00', '$35124.00', '$53340.00', '$70621.00', '$77238.00', '$77291.00', '$21704.00', '$49992.00', '$19313.00', '$57982.00', '$91260.00', '$73475.00', '$111096.00', '$100205.00', '$50948.00', '$85655.00', '$25152.00', '$58253.00', '$55872.00', '$76627.00', '$16047.00', '$53839.00', '$86460.00', '$89646.00', '$11471.00', '$15319.00', '$74628.00', '$87756.00', '$75356.00', '$83455.00', '$80645.00', '$64248.00', '$66764.00', '$60088.00', '$85278.00', '$67596.00', '$83562.00', '$83028.00', '$2756.00', '$82878.00', '$79320.00', '$91232.00', '$92806.00', '$61308.00', '$71469.00', '$63276.00', '$50952.00', '$81862.00', '$36056.00', '$64374.00', '$73200.00'])]"
      ]
     },
     "execution_count": 16,
     "metadata": {},
     "output_type": "execute_result"
    }
   ],
   "source": [
    "df.freqItems(('_c3','_c4')).take(1)\n",
    "\n",
    "# most frequent items "
   ]
  },
  {
   "cell_type": "code",
   "execution_count": 42,
   "metadata": {},
   "outputs": [
    {
     "data": {
      "text/plain": [
       "34219"
      ]
     },
     "execution_count": 42,
     "metadata": {},
     "output_type": "execute_result"
    }
   ],
   "source": [
    "df.count()\n",
    "\n",
    "# Counts the number of records in a data frame."
   ]
  },
  {
   "cell_type": "code",
   "execution_count": 50,
   "metadata": {},
   "outputs": [
    {
     "name": "stdout",
     "output_type": "stream",
     "text": [
      "+-------+-------------------+--------------------+------------+-------+--------------------+\n",
      "|summary|                _c0|                 _c1|         _c2|    _c3|                 _c4|\n",
      "+-------+-------------------+--------------------+------------+-------+--------------------+\n",
      "|  count|              34219|               34219|       34219|  34219|               34219|\n",
      "|   mean|               null|                null|        null|   null|                null|\n",
      "| stddev|               null|                null|        null|   null|                null|\n",
      "|    min|    AARON,  ELVIA J|A/MGR COM SVC-ELE...|ADMIN HEARNG|  $1.00|               $1.00|\n",
      "|    max|ZYSKOWSKI,  DARIUSZ|ZONING PLAN EXAMINER| WATER MGMNT|EMP_SAL|ESTIMATED ANNUAL SAL|\n",
      "+-------+-------------------+--------------------+------------+-------+--------------------+\n",
      "\n"
     ]
    }
   ],
   "source": [
    "df.describe().show()"
   ]
  },
  {
   "cell_type": "code",
   "execution_count": 51,
   "metadata": {},
   "outputs": [
    {
     "name": "stdout",
     "output_type": "stream",
     "text": [
      "== Physical Plan ==\n",
      "*(1) FileScan csv [_c0#94,_c1#95,_c2#96,_c3#97,_c4#98] Batched: false, Format: CSV, Location: InMemoryFileIndex[file:/C:/Users/vinay/Desktop/spark-project/Emp.csv], PartitionFilters: [], PushedFilters: [], ReadSchema: struct<_c0:string,_c1:string,_c2:string,_c3:string,_c4:string>\n"
     ]
    }
   ],
   "source": [
    "df.explain()"
   ]
  },
  {
   "cell_type": "code",
   "execution_count": 52,
   "metadata": {},
   "outputs": [
    {
     "name": "stdout",
     "output_type": "stream",
     "text": [
      "== Parsed Logical Plan ==\n",
      "Relation[_c0#94,_c1#95,_c2#96,_c3#97,_c4#98] csv\n",
      "\n",
      "== Analyzed Logical Plan ==\n",
      "_c0: string, _c1: string, _c2: string, _c3: string, _c4: string\n",
      "Relation[_c0#94,_c1#95,_c2#96,_c3#97,_c4#98] csv\n",
      "\n",
      "== Optimized Logical Plan ==\n",
      "Relation[_c0#94,_c1#95,_c2#96,_c3#97,_c4#98] csv\n",
      "\n",
      "== Physical Plan ==\n",
      "*(1) FileScan csv [_c0#94,_c1#95,_c2#96,_c3#97,_c4#98] Batched: false, Format: CSV, Location: InMemoryFileIndex[file:/C:/Users/vinay/Desktop/spark-project/Emp.csv], PartitionFilters: [], PushedFilters: [], ReadSchema: struct<_c0:string,_c1:string,_c2:string,_c3:string,_c4:string>\n"
     ]
    }
   ],
   "source": [
    "df.explain(True)"
   ]
  },
  {
   "cell_type": "code",
   "execution_count": 55,
   "metadata": {},
   "outputs": [
    {
     "data": {
      "text/plain": [
       "33909"
      ]
     },
     "execution_count": 55,
     "metadata": {},
     "output_type": "execute_result"
    }
   ],
   "source": [
    "df.select('_c0').distinct().count()\n",
    "\n",
    "# Returns a new dataframe with unique values from a dataframe."
   ]
  },
  {
   "cell_type": "code",
   "execution_count": 17,
   "metadata": {},
   "outputs": [
    {
     "data": {
      "text/plain": [
       "[Row(_c0='NAME', _c1='JOB TITLE', _c3='EMP_SAL', _c4='ESTIMATED ANNUAL SAL'),\n",
       " Row(_c0='AARON,  ELVIA J', _c1='WATER RATE TAKER', _c3='$81000.00', _c4='$73862.00'),\n",
       " Row(_c0='AARON,  JEFFERY M', _c1='POLICE OFFICER', _c3='$74628.00', _c4='$74628.00'),\n",
       " Row(_c0='AARON,  KIMBERLEI R', _c1='CHIEF CONTRACT EXPEDITER', _c3='$77280.00', _c4='$70174.00'),\n",
       " Row(_c0='ABAD JR,  VICENTE M', _c1='CIVIL ENGINEER IV', _c3='$96276.00', _c4='$96276.00')]"
      ]
     },
     "execution_count": 17,
     "metadata": {},
     "output_type": "execute_result"
    }
   ],
   "source": [
    " df.drop('_c2').take(5)\n",
    "    \n",
    "# Drops a column from the existing data frame and returns a new data frame without the column."
   ]
  },
  {
   "cell_type": "code",
   "execution_count": 61,
   "metadata": {},
   "outputs": [
    {
     "data": {
      "text/plain": [
       "33909"
      ]
     },
     "execution_count": 61,
     "metadata": {},
     "output_type": "execute_result"
    }
   ],
   "source": [
    "df.select('_c0').dropDuplicates().count()\n",
    "\n",
    "# Returns a new DataFrame with duplicate rows removed."
   ]
  },
  {
   "cell_type": "code",
   "execution_count": 62,
   "metadata": {},
   "outputs": [
    {
     "data": {
      "text/plain": [
       "34219"
      ]
     },
     "execution_count": 62,
     "metadata": {},
     "output_type": "execute_result"
    }
   ],
   "source": [
    "df.dropna().count()\n",
    "\n",
    "# Returns a new DataFrame omitting rows with null values.\n"
   ]
  },
  {
   "cell_type": "code",
   "execution_count": 64,
   "metadata": {},
   "outputs": [
    {
     "data": {
      "text/plain": [
       "[('_c0', 'string'),\n",
       " ('_c1', 'string'),\n",
       " ('_c2', 'string'),\n",
       " ('_c3', 'string'),\n",
       " ('_c4', 'string')]"
      ]
     },
     "execution_count": 64,
     "metadata": {},
     "output_type": "execute_result"
    }
   ],
   "source": [
    "df.dtypes\n",
    "\n",
    "#Returns all column names and their data types as a list."
   ]
  },
  {
   "cell_type": "code",
   "execution_count": 73,
   "metadata": {},
   "outputs": [
    {
     "data": {
      "text/plain": [
       "[Row()]"
      ]
     },
     "execution_count": 73,
     "metadata": {},
     "output_type": "execute_result"
    }
   ],
   "source": [
    "df.groupBy().avg().collect()\n",
    "\n",
    "#Groups the DataFrame using the specified columns, \n",
    "#so we can run aggregation like max, min, mean etc. on them.\n"
   ]
  },
  {
   "cell_type": "code",
   "execution_count": 75,
   "metadata": {},
   "outputs": [
    {
     "data": {
      "text/plain": [
       "[Row(_c0='NAME', _c1='JOB TITLE', _c2='DEPARTMENT', _c3='EMP_SAL', _c4='ESTIMATED ANNUAL SAL'),\n",
       " Row(_c0='AARON,  ELVIA J', _c1='WATER RATE TAKER', _c2='WATER MGMNT', _c3='$81000.00', _c4='$73862.00'),\n",
       " Row(_c0='AARON,  JEFFERY M', _c1='POLICE OFFICER', _c2='POLICE', _c3='$74628.00', _c4='$74628.00'),\n",
       " Row(_c0='AARON,  KIMBERLEI R', _c1='CHIEF CONTRACT EXPEDITER', _c2='FLEET MANAGEMNT', _c3='$77280.00', _c4='$70174.00'),\n",
       " Row(_c0='ABAD JR,  VICENTE M', _c1='CIVIL ENGINEER IV', _c2='WATER MGMNT', _c3='$96276.00', _c4='$96276.00')]"
      ]
     },
     "execution_count": 75,
     "metadata": {},
     "output_type": "execute_result"
    }
   ],
   "source": [
    "df.limit(5).collect()\n",
    "\n",
    "#Similar to limit operation in SQL, \n",
    "#This operation returns the specified\n",
    "#No of records from the data frame."
   ]
  },
  {
   "cell_type": "code",
   "execution_count": 18,
   "metadata": {},
   "outputs": [
    {
     "data": {
      "text/plain": [
       "[Row(_c0='ZYSKOWSKI,  DARIUSZ', _c1='CHIEF DATA BASE ANALYST', _c2='DoIT', _c3='$110352.00', _c4='$100205.00'),\n",
       " Row(_c0='ZYSKO,  RICHARD', _c1='LIEUTENANT', _c2='FIRE', _c3='$101958.00', _c4='$101958.00'),\n",
       " Row(_c0='ZYRKOWSKI,  CARLO E', _c1='POLICE OFFICER', _c2='POLICE', _c3='$77238.00', _c4='$77238.00'),\n",
       " Row(_c0='ZYNIEWICZ,  ROBERT J', _c1='CONSTRUCTION LABORER', _c2='WATER MGMNT', _c3='$73216.00', _c4='$66764.00'),\n",
       " Row(_c0='ZYMANTAS,  MARK E', _c1='POLICE OFFICER', _c2='POLICE', _c3='$74628.00', _c4='$74628.00')]"
      ]
     },
     "execution_count": 18,
     "metadata": {},
     "output_type": "execute_result"
    }
   ],
   "source": [
    "df.sort('_c0',ascending = False).take(5)\n",
    "\n",
    "#Sorts the dataframe as per the order specified on a particular column.\n"
   ]
  },
  {
   "cell_type": "code",
   "execution_count": 19,
   "metadata": {},
   "outputs": [
    {
     "data": {
      "text/plain": [
       "[Row(_c0='NAME', _c1='JOB TITLE', _c2='DEPARTMENT', _c3='EMP_SAL', _c4='ESTIMATED ANNUAL SAL'),\n",
       " Row(_c0='HAUSWIRTH,  KEVIN', _c1='ASST PRESS SECRETARY', _c2=\"MAYOR'S OFFICE\", _c3='$99996.00', _c4='$90801.00'),\n",
       " Row(_c0='TAYLOR,  KIMBERLY A', _c1='DEPUTY COMMISSIONER', _c2='DISABILITIES', _c3='$99984.00', _c4='$90790.00'),\n",
       " Row(_c0='HARRIS,  GWENDOLYN S', _c1='ASST CORPORATION COUNSEL SUPVSR', _c2='LAW', _c3='$99948.00', _c4='$90757.00'),\n",
       " Row(_c0='BAGDON,  BONNIE F', _c1='ASST CORPORATION COUNSEL SUPVSR', _c2='LAW', _c3='$99948.00', _c4='$90757.00')]"
      ]
     },
     "execution_count": 19,
     "metadata": {},
     "output_type": "execute_result"
    }
   ],
   "source": [
    "df.orderBy(df._c3.desc()).take(5)"
   ]
  },
  {
   "cell_type": "code",
   "execution_count": 80,
   "metadata": {},
   "outputs": [
    {
     "name": "stdout",
     "output_type": "stream",
     "text": [
      "root\n",
      " |-- _c0: string (nullable = true)\n",
      " |-- _c1: string (nullable = true)\n",
      " |-- _c2: string (nullable = true)\n",
      " |-- _c3: string (nullable = true)\n",
      " |-- _c4: string (nullable = true)\n",
      "\n"
     ]
    }
   ],
   "source": [
    "df.printSchema()"
   ]
  },
  {
   "cell_type": "code",
   "execution_count": 87,
   "metadata": {},
   "outputs": [
    {
     "data": {
      "text/plain": [
       "StructType(List(StructField(_c0,StringType,true),StructField(_c1,StringType,true),StructField(_c2,StringType,true),StructField(_c3,StringType,true),StructField(_c4,StringType,true)))"
      ]
     },
     "execution_count": 87,
     "metadata": {},
     "output_type": "execute_result"
    }
   ],
   "source": [
    "df.schema"
   ]
  },
  {
   "cell_type": "code",
   "execution_count": 20,
   "metadata": {},
   "outputs": [
    {
     "data": {
      "text/plain": [
       "[Row(_c0='NAME', _c1='JOB TITLE', _c2='DEPARTMENT', _c3='EMP_SAL', _c4='ESTIMATED ANNUAL SAL'),\n",
       " Row(_c0='AARON,  ELVIA J', _c1='WATER RATE TAKER', _c2='WATER MGMNT', _c3='$81000.00', _c4='$73862.00'),\n",
       " Row(_c0='AARON,  JEFFERY M', _c1='POLICE OFFICER', _c2='POLICE', _c3='$74628.00', _c4='$74628.00'),\n",
       " Row(_c0='AARON,  KIMBERLEI R', _c1='CHIEF CONTRACT EXPEDITER', _c2='FLEET MANAGEMNT', _c3='$77280.00', _c4='$70174.00'),\n",
       " Row(_c0='ABAD JR,  VICENTE M', _c1='CIVIL ENGINEER IV', _c2='WATER MGMNT', _c3='$96276.00', _c4='$96276.00')]"
      ]
     },
     "execution_count": 20,
     "metadata": {},
     "output_type": "execute_result"
    }
   ],
   "source": [
    "df.select('*').take(5)"
   ]
  },
  {
   "cell_type": "code",
   "execution_count": 90,
   "metadata": {},
   "outputs": [
    {
     "name": "stdout",
     "output_type": "stream",
     "text": [
      "+-------+-------------------+--------------------+------------+-------+--------------------+\n",
      "|summary|                _c0|                 _c1|         _c2|    _c3|                 _c4|\n",
      "+-------+-------------------+--------------------+------------+-------+--------------------+\n",
      "|  count|              34219|               34219|       34219|  34219|               34219|\n",
      "|   mean|               null|                null|        null|   null|                null|\n",
      "| stddev|               null|                null|        null|   null|                null|\n",
      "|    min|    AARON,  ELVIA J|A/MGR COM SVC-ELE...|ADMIN HEARNG|  $1.00|               $1.00|\n",
      "|    max|ZYSKOWSKI,  DARIUSZ|ZONING PLAN EXAMINER| WATER MGMNT|EMP_SAL|ESTIMATED ANNUAL SAL|\n",
      "+-------+-------------------+--------------------+------------+-------+--------------------+\n",
      "\n"
     ]
    }
   ],
   "source": [
    "df.describe().show()"
   ]
  },
  {
   "cell_type": "code",
   "execution_count": 91,
   "metadata": {},
   "outputs": [
    {
     "data": {
      "text/plain": [
       "'{\"_c0\":\"NAME\",\"_c1\":\"JOB TITLE\",\"_c2\":\"DEPARTMENT\",\"_c3\":\"EMP_SAL\",\"_c4\":\"ESTIMATED ANNUAL SAL\"}'"
      ]
     },
     "execution_count": 91,
     "metadata": {},
     "output_type": "execute_result"
    }
   ],
   "source": [
    "df.toJSON().first()\n",
    "\n",
    "#Converts the data frame into JSON representable string."
   ]
  },
  {
   "cell_type": "code",
   "execution_count": null,
   "metadata": {},
   "outputs": [],
   "source": []
  }
 ],
 "metadata": {
  "kernelspec": {
   "display_name": "Python 3",
   "language": "python",
   "name": "python3"
  },
  "language_info": {
   "codemirror_mode": {
    "name": "ipython",
    "version": 3
   },
   "file_extension": ".py",
   "mimetype": "text/x-python",
   "name": "python",
   "nbconvert_exporter": "python",
   "pygments_lexer": "ipython3",
   "version": "3.6.5"
  }
 },
 "nbformat": 4,
 "nbformat_minor": 2
}
